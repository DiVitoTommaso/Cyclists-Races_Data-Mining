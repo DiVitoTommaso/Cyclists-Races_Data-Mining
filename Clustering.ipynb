{
 "cells": [
  {
   "cell_type": "markdown",
   "metadata": {},
   "source": [
    "# Clustering"
   ]
  },
  {
   "cell_type": "markdown",
   "metadata": {},
   "source": [
    "In this notebook we do the three types of clustering discussed "
   ]
  },
  {
   "cell_type": "code",
   "execution_count": 2,
   "metadata": {},
   "outputs": [],
   "source": [
    "import pandas as pd\n",
    "import seaborn as sns\n",
    "import matplotlib.pyplot as plt\n",
    "import os"
   ]
  },
  {
   "cell_type": "code",
   "execution_count": 3,
   "metadata": {},
   "outputs": [],
   "source": [
    "DATASET_DIR = \"dataset\" + os.sep"
   ]
  },
  {
   "cell_type": "code",
   "execution_count": 4,
   "metadata": {},
   "outputs": [],
   "source": [
    "merged_df = pd.read_csv(DATASET_DIR + \"merge_clean_v2.csv\", parse_dates=[\"date\"])\n",
    "cyclist_df = pd.read_csv(DATASET_DIR + \"cyclist_clean_v2.csv\")\n",
    "stages_df = pd.read_csv(DATASET_DIR + \"stages_clean_v2.csv\", parse_dates=[\"date\"])"
   ]
  },
  {
   "cell_type": "code",
   "execution_count": 5,
   "metadata": {},
   "outputs": [
    {
     "name": "stdout",
     "output_type": "stream",
     "text": [
      "<class 'pandas.core.frame.DataFrame'>\n",
      "RangeIndex: 589771 entries, 0 to 589770\n",
      "Data columns (total 18 columns):\n",
      " #   Column             Non-Null Count   Dtype         \n",
      "---  ------             --------------   -----         \n",
      " 0   _url               589771 non-null  object        \n",
      " 1   points             589771 non-null  int64         \n",
      " 2   length             589771 non-null  float64       \n",
      " 3   profile            475349 non-null  float64       \n",
      " 4   startlist_quality  589771 non-null  int64         \n",
      " 5   date               589771 non-null  datetime64[ns]\n",
      " 6   position           589771 non-null  int64         \n",
      " 7   cyclist            589771 non-null  object        \n",
      " 8   cyclist_age        589658 non-null  float64       \n",
      " 9   delta              589771 non-null  int64         \n",
      " 10  race               589771 non-null  object        \n",
      " 11  year               589771 non-null  int64         \n",
      " 12  stage              589771 non-null  object        \n",
      " 13  birth_year         589724 non-null  float64       \n",
      " 14  weight             480010 non-null  float64       \n",
      " 15  height             480010 non-null  float64       \n",
      " 16  nationality        589771 non-null  object        \n",
      " 17  season             589771 non-null  object        \n",
      "dtypes: datetime64[ns](1), float64(6), int64(5), object(6)\n",
      "memory usage: 81.0+ MB\n"
     ]
    }
   ],
   "source": [
    "merged_df.info()"
   ]
  },
  {
   "cell_type": "code",
   "execution_count": 6,
   "metadata": {},
   "outputs": [
    {
     "name": "stdout",
     "output_type": "stream",
     "text": [
      "<class 'pandas.core.frame.DataFrame'>\n",
      "RangeIndex: 6095 entries, 0 to 6094\n",
      "Data columns (total 6 columns):\n",
      " #   Column       Non-Null Count  Dtype  \n",
      "---  ------       --------------  -----  \n",
      " 0   _url         6095 non-null   object \n",
      " 1   name         6095 non-null   object \n",
      " 2   birth_year   6084 non-null   float64\n",
      " 3   height       3134 non-null   float64\n",
      " 4   nationality  6095 non-null   object \n",
      " 5   BMI          3134 non-null   float64\n",
      "dtypes: float64(3), object(3)\n",
      "memory usage: 285.8+ KB\n"
     ]
    }
   ],
   "source": [
    "cyclist_df.info()"
   ]
  },
  {
   "cell_type": "code",
   "execution_count": 7,
   "metadata": {},
   "outputs": [
    {
     "name": "stdout",
     "output_type": "stream",
     "text": [
      "<class 'pandas.core.frame.DataFrame'>\n",
      "RangeIndex: 5281 entries, 0 to 5280\n",
      "Data columns (total 10 columns):\n",
      " #   Column             Non-Null Count  Dtype         \n",
      "---  ------             --------------  -----         \n",
      " 0   _url               5281 non-null   object        \n",
      " 1   stage              5281 non-null   object        \n",
      " 2   race               5281 non-null   object        \n",
      " 3   date               5281 non-null   datetime64[ns]\n",
      " 4   points             5281 non-null   int64         \n",
      " 5   length             5281 non-null   int64         \n",
      " 6   profile            3326 non-null   float64       \n",
      " 7   startlist_quality  5281 non-null   int64         \n",
      " 8   year               5281 non-null   int64         \n",
      " 9   season             5281 non-null   object        \n",
      "dtypes: datetime64[ns](1), float64(1), int64(4), object(4)\n",
      "memory usage: 412.7+ KB\n"
     ]
    }
   ],
   "source": [
    "stages_df.info()"
   ]
  },
  {
   "cell_type": "markdown",
   "metadata": {},
   "source": [
    "## K-means"
   ]
  },
  {
   "cell_type": "code",
   "execution_count": null,
   "metadata": {},
   "outputs": [],
   "source": [
    "from sklearn.cluster import KMeans"
   ]
  },
  {
   "cell_type": "code",
   "execution_count": null,
   "metadata": {},
   "outputs": [],
   "source": []
  },
  {
   "cell_type": "markdown",
   "metadata": {},
   "source": [
    "## Hierarchical clustering"
   ]
  },
  {
   "cell_type": "markdown",
   "metadata": {},
   "source": [
    "## DBscan"
   ]
  }
 ],
 "metadata": {
  "kernelspec": {
   "display_name": "venv",
   "language": "python",
   "name": "python3"
  },
  "language_info": {
   "codemirror_mode": {
    "name": "ipython",
    "version": 3
   },
   "file_extension": ".py",
   "mimetype": "text/x-python",
   "name": "python",
   "nbconvert_exporter": "python",
   "pygments_lexer": "ipython3",
   "version": "3.11.10"
  }
 },
 "nbformat": 4,
 "nbformat_minor": 2
}
