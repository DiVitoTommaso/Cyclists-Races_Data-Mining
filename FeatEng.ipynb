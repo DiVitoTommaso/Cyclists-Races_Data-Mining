{
 "cells": [
  {
   "cell_type": "markdown",
   "metadata": {},
   "source": [
    "# Feature engineering"
   ]
  },
  {
   "cell_type": "code",
   "execution_count": 1,
   "metadata": {},
   "outputs": [],
   "source": [
    "import pandas as pd\n",
    "import os"
   ]
  },
  {
   "cell_type": "code",
   "execution_count": 2,
   "metadata": {},
   "outputs": [],
   "source": [
    "DATASET_DIR = \"dataset\" + os.sep"
   ]
  },
  {
   "cell_type": "code",
   "execution_count": 3,
   "metadata": {},
   "outputs": [],
   "source": [
    "merged_df = pd.read_csv(DATASET_DIR + \"merge_clean_v1.csv\", parse_dates=[\"date\"])\n",
    "cyclist_df = pd.read_csv(DATASET_DIR + \"cyclist_clean_v1.csv\")\n",
    "stages_df = pd.read_csv(DATASET_DIR + \"stages_clean_v1.csv\", parse_dates=[\"date\"])"
   ]
  },
  {
   "cell_type": "code",
   "execution_count": 4,
   "metadata": {},
   "outputs": [
    {
     "name": "stdout",
     "output_type": "stream",
     "text": [
      "<class 'pandas.core.frame.DataFrame'>\n",
      "RangeIndex: 589771 entries, 0 to 589770\n",
      "Data columns (total 17 columns):\n",
      " #   Column             Non-Null Count   Dtype         \n",
      "---  ------             --------------   -----         \n",
      " 0   _url               589771 non-null  object        \n",
      " 1   points             589771 non-null  int64         \n",
      " 2   length             589771 non-null  float64       \n",
      " 3   profile            475349 non-null  float64       \n",
      " 4   startlist_quality  589771 non-null  int64         \n",
      " 5   date               589771 non-null  datetime64[ns]\n",
      " 6   position           589771 non-null  int64         \n",
      " 7   cyclist            589771 non-null  object        \n",
      " 8   cyclist_age        589658 non-null  float64       \n",
      " 9   delta              589771 non-null  int64         \n",
      " 10  race               589771 non-null  object        \n",
      " 11  year               589771 non-null  int64         \n",
      " 12  stage              589771 non-null  object        \n",
      " 13  birth_year         589724 non-null  float64       \n",
      " 14  weight             480010 non-null  float64       \n",
      " 15  height             480010 non-null  float64       \n",
      " 16  nationality        589771 non-null  object        \n",
      "dtypes: datetime64[ns](1), float64(6), int64(5), object(5)\n",
      "memory usage: 76.5+ MB\n"
     ]
    }
   ],
   "source": [
    "merged_df.info()"
   ]
  },
  {
   "cell_type": "code",
   "execution_count": 5,
   "metadata": {},
   "outputs": [
    {
     "name": "stdout",
     "output_type": "stream",
     "text": [
      "<class 'pandas.core.frame.DataFrame'>\n",
      "RangeIndex: 6095 entries, 0 to 6094\n",
      "Data columns (total 6 columns):\n",
      " #   Column       Non-Null Count  Dtype  \n",
      "---  ------       --------------  -----  \n",
      " 0   _url         6095 non-null   object \n",
      " 1   name         6095 non-null   object \n",
      " 2   birth_year   6084 non-null   float64\n",
      " 3   weight       3134 non-null   float64\n",
      " 4   height       3134 non-null   float64\n",
      " 5   nationality  6095 non-null   object \n",
      "dtypes: float64(3), object(3)\n",
      "memory usage: 285.8+ KB\n"
     ]
    }
   ],
   "source": [
    "cyclist_df.info()"
   ]
  },
  {
   "cell_type": "code",
   "execution_count": 6,
   "metadata": {},
   "outputs": [
    {
     "name": "stdout",
     "output_type": "stream",
     "text": [
      "<class 'pandas.core.frame.DataFrame'>\n",
      "RangeIndex: 5281 entries, 0 to 5280\n",
      "Data columns (total 9 columns):\n",
      " #   Column             Non-Null Count  Dtype         \n",
      "---  ------             --------------  -----         \n",
      " 0   _url               5281 non-null   object        \n",
      " 1   stage              5281 non-null   object        \n",
      " 2   race               5281 non-null   object        \n",
      " 3   date               5281 non-null   datetime64[ns]\n",
      " 4   points             5281 non-null   int64         \n",
      " 5   length             5281 non-null   int64         \n",
      " 6   profile            3326 non-null   float64       \n",
      " 7   startlist_quality  5281 non-null   int64         \n",
      " 8   year               5281 non-null   int64         \n",
      "dtypes: datetime64[ns](1), float64(1), int64(4), object(3)\n",
      "memory usage: 371.4+ KB\n"
     ]
    }
   ],
   "source": [
    "stages_df.info()"
   ]
  },
  {
   "cell_type": "markdown",
   "metadata": {},
   "source": [
    "## Feature creation"
   ]
  },
  {
   "cell_type": "markdown",
   "metadata": {},
   "source": [
    "### Feature 1"
   ]
  },
  {
   "cell_type": "markdown",
   "metadata": {},
   "source": [
    "For features engineering we can discretize for example the date to extract the season (spring, winter ...) while for features novel we can create new feature to analyze in which seasons and in which years the cyclist is more active."
   ]
  },
  {
   "cell_type": "code",
   "execution_count": 7,
   "metadata": {},
   "outputs": [
    {
     "data": {
      "text/html": [
       "<div>\n",
       "<style scoped>\n",
       "    .dataframe tbody tr th:only-of-type {\n",
       "        vertical-align: middle;\n",
       "    }\n",
       "\n",
       "    .dataframe tbody tr th {\n",
       "        vertical-align: top;\n",
       "    }\n",
       "\n",
       "    .dataframe thead th {\n",
       "        text-align: right;\n",
       "    }\n",
       "</style>\n",
       "<table border=\"1\" class=\"dataframe\">\n",
       "  <thead>\n",
       "    <tr style=\"text-align: right;\">\n",
       "      <th></th>\n",
       "      <th>_url</th>\n",
       "      <th>stage</th>\n",
       "      <th>race</th>\n",
       "      <th>date</th>\n",
       "      <th>points</th>\n",
       "      <th>length</th>\n",
       "      <th>profile</th>\n",
       "      <th>startlist_quality</th>\n",
       "      <th>year</th>\n",
       "      <th>season</th>\n",
       "    </tr>\n",
       "  </thead>\n",
       "  <tbody>\n",
       "    <tr>\n",
       "      <th>5271</th>\n",
       "      <td>world-championship/2013/result</td>\n",
       "      <td>result</td>\n",
       "      <td>world-championship</td>\n",
       "      <td>2013-09-29</td>\n",
       "      <td>350</td>\n",
       "      <td>272200</td>\n",
       "      <td>2.0</td>\n",
       "      <td>1630</td>\n",
       "      <td>2013</td>\n",
       "      <td>Fall</td>\n",
       "    </tr>\n",
       "    <tr>\n",
       "      <th>5272</th>\n",
       "      <td>world-championship/2014/result</td>\n",
       "      <td>result</td>\n",
       "      <td>world-championship</td>\n",
       "      <td>2014-09-28</td>\n",
       "      <td>350</td>\n",
       "      <td>254800</td>\n",
       "      <td>2.0</td>\n",
       "      <td>1535</td>\n",
       "      <td>2014</td>\n",
       "      <td>Fall</td>\n",
       "    </tr>\n",
       "    <tr>\n",
       "      <th>5273</th>\n",
       "      <td>world-championship/2015/result</td>\n",
       "      <td>result</td>\n",
       "      <td>world-championship</td>\n",
       "      <td>2015-09-27</td>\n",
       "      <td>350</td>\n",
       "      <td>261400</td>\n",
       "      <td>3.0</td>\n",
       "      <td>1353</td>\n",
       "      <td>2015</td>\n",
       "      <td>Fall</td>\n",
       "    </tr>\n",
       "    <tr>\n",
       "      <th>5274</th>\n",
       "      <td>world-championship/2016/result</td>\n",
       "      <td>result</td>\n",
       "      <td>world-championship</td>\n",
       "      <td>2016-10-16</td>\n",
       "      <td>350</td>\n",
       "      <td>257300</td>\n",
       "      <td>1.0</td>\n",
       "      <td>998</td>\n",
       "      <td>2016</td>\n",
       "      <td>Fall</td>\n",
       "    </tr>\n",
       "    <tr>\n",
       "      <th>5275</th>\n",
       "      <td>world-championship/2017/result</td>\n",
       "      <td>result</td>\n",
       "      <td>world-championship</td>\n",
       "      <td>2017-09-24</td>\n",
       "      <td>350</td>\n",
       "      <td>267500</td>\n",
       "      <td>2.0</td>\n",
       "      <td>1327</td>\n",
       "      <td>2017</td>\n",
       "      <td>Fall</td>\n",
       "    </tr>\n",
       "    <tr>\n",
       "      <th>5276</th>\n",
       "      <td>world-championship/2018/result</td>\n",
       "      <td>result</td>\n",
       "      <td>world-championship</td>\n",
       "      <td>2018-09-30</td>\n",
       "      <td>350</td>\n",
       "      <td>258000</td>\n",
       "      <td>4.0</td>\n",
       "      <td>1374</td>\n",
       "      <td>2018</td>\n",
       "      <td>Fall</td>\n",
       "    </tr>\n",
       "    <tr>\n",
       "      <th>5277</th>\n",
       "      <td>world-championship/2019/result</td>\n",
       "      <td>result</td>\n",
       "      <td>world-championship</td>\n",
       "      <td>2019-09-29</td>\n",
       "      <td>350</td>\n",
       "      <td>260700</td>\n",
       "      <td>2.0</td>\n",
       "      <td>1443</td>\n",
       "      <td>2019</td>\n",
       "      <td>Fall</td>\n",
       "    </tr>\n",
       "    <tr>\n",
       "      <th>5278</th>\n",
       "      <td>world-championship/2020/result</td>\n",
       "      <td>result</td>\n",
       "      <td>world-championship</td>\n",
       "      <td>2020-09-27</td>\n",
       "      <td>350</td>\n",
       "      <td>258200</td>\n",
       "      <td>2.0</td>\n",
       "      <td>1008</td>\n",
       "      <td>2020</td>\n",
       "      <td>Fall</td>\n",
       "    </tr>\n",
       "    <tr>\n",
       "      <th>5279</th>\n",
       "      <td>world-championship/2021/result</td>\n",
       "      <td>result</td>\n",
       "      <td>world-championship</td>\n",
       "      <td>2021-09-26</td>\n",
       "      <td>350</td>\n",
       "      <td>268300</td>\n",
       "      <td>2.0</td>\n",
       "      <td>1357</td>\n",
       "      <td>2021</td>\n",
       "      <td>Fall</td>\n",
       "    </tr>\n",
       "    <tr>\n",
       "      <th>5280</th>\n",
       "      <td>world-championship/2022/result</td>\n",
       "      <td>result</td>\n",
       "      <td>world-championship</td>\n",
       "      <td>2022-09-25</td>\n",
       "      <td>350</td>\n",
       "      <td>266900</td>\n",
       "      <td>2.0</td>\n",
       "      <td>1052</td>\n",
       "      <td>2022</td>\n",
       "      <td>Fall</td>\n",
       "    </tr>\n",
       "  </tbody>\n",
       "</table>\n",
       "</div>"
      ],
      "text/plain": [
       "                                _url   stage                race       date  \\\n",
       "5271  world-championship/2013/result  result  world-championship 2013-09-29   \n",
       "5272  world-championship/2014/result  result  world-championship 2014-09-28   \n",
       "5273  world-championship/2015/result  result  world-championship 2015-09-27   \n",
       "5274  world-championship/2016/result  result  world-championship 2016-10-16   \n",
       "5275  world-championship/2017/result  result  world-championship 2017-09-24   \n",
       "5276  world-championship/2018/result  result  world-championship 2018-09-30   \n",
       "5277  world-championship/2019/result  result  world-championship 2019-09-29   \n",
       "5278  world-championship/2020/result  result  world-championship 2020-09-27   \n",
       "5279  world-championship/2021/result  result  world-championship 2021-09-26   \n",
       "5280  world-championship/2022/result  result  world-championship 2022-09-25   \n",
       "\n",
       "      points  length  profile  startlist_quality  year season  \n",
       "5271     350  272200      2.0               1630  2013   Fall  \n",
       "5272     350  254800      2.0               1535  2014   Fall  \n",
       "5273     350  261400      3.0               1353  2015   Fall  \n",
       "5274     350  257300      1.0                998  2016   Fall  \n",
       "5275     350  267500      2.0               1327  2017   Fall  \n",
       "5276     350  258000      4.0               1374  2018   Fall  \n",
       "5277     350  260700      2.0               1443  2019   Fall  \n",
       "5278     350  258200      2.0               1008  2020   Fall  \n",
       "5279     350  268300      2.0               1357  2021   Fall  \n",
       "5280     350  266900      2.0               1052  2022   Fall  "
      ]
     },
     "execution_count": 7,
     "metadata": {},
     "output_type": "execute_result"
    }
   ],
   "source": [
    "def get_season(date):\n",
    "    month = date.month\n",
    "    if month in [12, 1, 2]:\n",
    "        return \"Winter\"\n",
    "    elif month in [3, 4, 5]:\n",
    "        return \"Spring\"\n",
    "    elif month in [6, 7, 8]:\n",
    "        return \"Summer\"\n",
    "    elif month in [9, 10, 11]:\n",
    "        return \"Fall\"\n",
    "\n",
    "\n",
    "# Apply the function to the date column to create a new season column\n",
    "merged_df[\"season\"] = merged_df[\"date\"].apply(get_season)\n",
    "stages_df[\"season\"] = stages_df[\"date\"].apply(get_season)\n",
    "stages_df.tail(10)"
   ]
  },
  {
   "cell_type": "markdown",
   "metadata": {},
   "source": [
    "## Anomaly Detection"
   ]
  },
  {
   "cell_type": "markdown",
   "metadata": {},
   "source": [
    "## Data understanding"
   ]
  }
 ],
 "metadata": {
  "kernelspec": {
   "display_name": "venv",
   "language": "python",
   "name": "python3"
  },
  "language_info": {
   "codemirror_mode": {
    "name": "ipython",
    "version": 3
   },
   "file_extension": ".py",
   "mimetype": "text/x-python",
   "name": "python",
   "nbconvert_exporter": "python",
   "pygments_lexer": "ipython3",
   "version": "3.13.0"
  }
 },
 "nbformat": 4,
 "nbformat_minor": 2
}
