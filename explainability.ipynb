{
 "cells": [
  {
   "cell_type": "markdown",
   "metadata": {},
   "source": [
    "# Explainability"
   ]
  },
  {
   "cell_type": "code",
   "execution_count": 1,
   "metadata": {},
   "outputs": [],
   "source": [
    "import joblib\n",
    "import os\n",
    "import pandas as pd"
   ]
  },
  {
   "cell_type": "code",
   "execution_count": 2,
   "metadata": {},
   "outputs": [],
   "source": [
    "MODELS_DIR = \"models\" + os.sep\n",
    "MODEL_NAME = \"best_rf.pkl\"\n",
    "DATASET_DIR = \"dataset\" + os.sep\n",
    "TRAIN_NAME = \"train_set.csv\"\n",
    "TEST_NAME = \"test_set.csv\""
   ]
  },
  {
   "cell_type": "code",
   "execution_count": null,
   "metadata": {},
   "outputs": [],
   "source": [
    "model = joblib.load(MODELS_DIR + MODEL_NAME)\n",
    "train_df = pd.read_csv(DATASET_DIR + TRAIN_NAME)\n",
    "test_df = pd.read_csv(DATASET_DIR + TEST_NAME)\n",
    "y_train = train_df.pop(\"position\")\n",
    "X_train = train_df\n",
    "y_test = test_df.pop(\"position\")\n",
    "X_test = test_df\n",
    "X_train.shape, y_train.shape, X_test.shape, y_test.shape"
   ]
  },
  {
   "cell_type": "code",
   "execution_count": null,
   "metadata": {},
   "outputs": [],
   "source": [
    "X_train[\"season\"] = X_train[\"season\"].astype(\"category\")\n",
    "X_test[\"season\"] = X_train[\"season\"].astype(\"category\")\n",
    "X_train[\"continent\"] = X_train[\"continent\"].astype(\"category\")\n",
    "X_test[\"continent\"] = X_train[\"continent\"].astype(\"category\")\n",
    "\n",
    "# obtain mapping from category to integer\n",
    "season_mapping = dict(enumerate(X_train[\"season\"].cat.categories))\n",
    "continent_mapping = dict(enumerate(X_train[\"continent\"].cat.categories))\n",
    "\n",
    "# use codes to replace category\n",
    "X_train[\"season\"] = X_train[\"season\"].cat.codes\n",
    "X_test[\"season\"] = X_test[\"season\"].cat.codes\n",
    "X_train[\"continent\"] = X_train[\"continent\"].cat.codes\n",
    "X_test[\"continent\"] = X_test[\"continent\"].cat.codes\n",
    "\n",
    "print(season_mapping)\n",
    "print(continent_mapping)"
   ]
  },
  {
   "cell_type": "code",
   "execution_count": 5,
   "metadata": {},
   "outputs": [],
   "source": [
    "# telling one hot encoder to output pandas df and not numpy array\n",
    "model[-2].set_output(transform=\"pandas\")\n",
    "model[-2][\"onehot\"].set_params(sparse_output=False)\n",
    "\n",
    "\n",
    "X_train_transformed = model[:-1].transform(X_train)\n",
    "X_test_transformed = model[:-1].transform(X_test)"
   ]
  },
  {
   "cell_type": "code",
   "execution_count": null,
   "metadata": {},
   "outputs": [],
   "source": [
    "X_train_transformed.info()"
   ]
  },
  {
   "cell_type": "code",
   "execution_count": 7,
   "metadata": {},
   "outputs": [],
   "source": [
    "classifier = model[-1]"
   ]
  },
  {
   "cell_type": "markdown",
   "metadata": {},
   "source": [
    "## SHAP"
   ]
  },
  {
   "cell_type": "code",
   "execution_count": null,
   "metadata": {},
   "outputs": [],
   "source": [
    "import shap"
   ]
  },
  {
   "cell_type": "code",
   "execution_count": 9,
   "metadata": {},
   "outputs": [],
   "source": [
    "explanations = dict()"
   ]
  },
  {
   "cell_type": "code",
   "execution_count": 10,
   "metadata": {},
   "outputs": [],
   "source": [
    "int_alg = shap.TreeExplainer(\n",
    "    model=classifier,\n",
    "    data=X_train_transformed.iloc[\n",
    "        :10\n",
    "    ],  # perturb on a causal model induced on perturbation data\n",
    "    feature_perturbation=\"interventional\",  # use a causal model\n",
    ")\n",
    "\n",
    "distr_alg = shap.TreeExplainer(\n",
    "    model=classifier,\n",
    "    feature_perturbation=\"tree_path_dependent\",  # condition on the distribution learned on the train data\n",
    ")"
   ]
  },
  {
   "cell_type": "code",
   "execution_count": null,
   "metadata": {},
   "outputs": [],
   "source": [
    "int_expl = int_alg(X_test_transformed.iloc[:10])\n",
    "print(\"done1\")\n",
    "distr_expl = distr_alg(X_test_transformed.iloc[:10])\n",
    "print(\"done2\")\n",
    "\n",
    "explanations[\"shap_interventional\"] = int_expl.values\n",
    "explanations[\"shap_distributional\"] = distr_expl.values"
   ]
  },
  {
   "cell_type": "code",
   "execution_count": null,
   "metadata": {},
   "outputs": [],
   "source": [
    "shap.plots.beeswarm(int_expl)"
   ]
  },
  {
   "cell_type": "code",
   "execution_count": null,
   "metadata": {},
   "outputs": [],
   "source": [
    "shap.plots.beeswarm(distr_expl)"
   ]
  },
  {
   "cell_type": "markdown",
   "metadata": {},
   "source": [
    "## LIME"
   ]
  },
  {
   "cell_type": "code",
   "execution_count": null,
   "metadata": {},
   "outputs": [],
   "source": [
    "from interpret import set_visualize_provider\n",
    "from interpret.provider import InlineProvider\n",
    "from interpret import show\n",
    "from tqdm import tqdm\n",
    "from interpret.blackbox import LimeTabular"
   ]
  },
  {
   "cell_type": "code",
   "execution_count": null,
   "metadata": {},
   "outputs": [],
   "source": [
    "explainer = LimeTabular(classifier, X_train_transformed)"
   ]
  },
  {
   "cell_type": "markdown",
   "metadata": {},
   "source": [
    "## Lore"
   ]
  },
  {
   "cell_type": "code",
   "execution_count": null,
   "metadata": {},
   "outputs": [],
   "source": [
    "from xailib.explainers.lore_explainer import LoreTabularExplainer"
   ]
  },
  {
   "cell_type": "code",
   "execution_count": null,
   "metadata": {},
   "outputs": [],
   "source": [
    "explainer_lore = LoreTabularExplainer(classifier, X_train_transformed)\n",
    "configuration = {\"neigh_type\": \"rndgen\", \"size\": 1000, \"ocr\": 0.1, \"ngen\": 100}\n",
    "\n",
    "lore_train_data = pd.concat([X_train_transformed, y_train], axis=\"columns\")"
   ]
  }
 ],
 "metadata": {
  "kernelspec": {
   "display_name": "venexpl",
   "language": "python",
   "name": "python3"
  },
  "language_info": {
   "codemirror_mode": {
    "name": "ipython",
    "version": 3
   },
   "file_extension": ".py",
   "mimetype": "text/x-python",
   "name": "python",
   "nbconvert_exporter": "python",
   "pygments_lexer": "ipython3",
   "version": "3.11.10"
  }
 },
 "nbformat": 4,
 "nbformat_minor": 4
}
