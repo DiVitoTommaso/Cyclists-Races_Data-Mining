{
 "cells": [
  {
   "cell_type": "code",
   "execution_count": 12,
   "metadata": {},
   "outputs": [],
   "source": [
    "import datacleaner as dc\n",
    "import pandas as pd\n",
    "import numpy as np"
   ]
  },
  {
   "cell_type": "code",
   "execution_count": 89,
   "metadata": {},
   "outputs": [],
   "source": [
    "dm = dc.DataCleaner(r\"./dataset/races.csv\", r\"./dataset/cyclists.csv\")"
   ]
  },
  {
   "cell_type": "code",
   "execution_count": 90,
   "metadata": {},
   "outputs": [
    {
     "name": "stdout",
     "output_type": "stream",
     "text": [
      "<class 'pandas.core.frame.DataFrame'>\n",
      "RangeIndex: 589865 entries, 0 to 589864\n",
      "Data columns (total 20 columns):\n",
      " #   Column               Non-Null Count   Dtype         \n",
      "---  ------               --------------   -----         \n",
      " 0   _url                 589865 non-null  object        \n",
      " 1   location             589865 non-null  object        \n",
      " 2   points               589388 non-null  float64       \n",
      " 3   uci_points           251086 non-null  float64       \n",
      " 4   length               589865 non-null  float64       \n",
      " 5   climb_total          442820 non-null  float64       \n",
      " 6   profile              441671 non-null  float64       \n",
      " 7   startlist_quality    589865 non-null  int64         \n",
      " 8   average_temperature  29933 non-null   float64       \n",
      " 9   date                 589865 non-null  datetime64[ns]\n",
      " 10  position             589865 non-null  int64         \n",
      " 11  cyclist              589865 non-null  object        \n",
      " 12  cyclist_age          589752 non-null  float64       \n",
      " 13  is_tarmac            589865 non-null  bool          \n",
      " 14  cyclist_team         430704 non-null  object        \n",
      " 15  delta                589865 non-null  float64       \n",
      " 16  birth_year           589752 non-null  float64       \n",
      " 17  weight               478431 non-null  float64       \n",
      " 18  height               479746 non-null  float64       \n",
      " 19  nationality          589813 non-null  object        \n",
      "dtypes: bool(1), datetime64[ns](1), float64(11), int64(2), object(5)\n",
      "memory usage: 86.1+ MB\n"
     ]
    }
   ],
   "source": [
    "dm.df.info()"
   ]
  },
  {
   "cell_type": "code",
   "execution_count": 91,
   "metadata": {},
   "outputs": [],
   "source": [
    "df_races = pd.read_csv(\"dataset/races.csv\", parse_dates=['date'])\n",
    "df_cyclists = pd.read_csv(\"dataset/cyclists.csv\")\n"
   ]
  },
  {
   "cell_type": "markdown",
   "metadata": {},
   "source": [
    "## Cyclists analysis\n",
    "\n",
    "One cyclist has all NaN fields. Consider removing"
   ]
  },
  {
   "cell_type": "code",
   "execution_count": 92,
   "metadata": {},
   "outputs": [
    {
     "name": "stdout",
     "output_type": "stream",
     "text": [
      "<class 'pandas.core.frame.DataFrame'>\n",
      "RangeIndex: 6134 entries, 0 to 6133\n",
      "Data columns (total 6 columns):\n",
      " #   Column       Non-Null Count  Dtype  \n",
      "---  ------       --------------  -----  \n",
      " 0   _url         6134 non-null   object \n",
      " 1   name         6134 non-null   object \n",
      " 2   birth_year   6121 non-null   float64\n",
      " 3   weight       3078 non-null   float64\n",
      " 4   height       3143 non-null   float64\n",
      " 5   nationality  6133 non-null   object \n",
      "dtypes: float64(3), object(3)\n",
      "memory usage: 287.7+ KB\n",
      "           _url           name  birth_year  weight  height nationality\n",
      "9  scott-davies  Scott  Davies         NaN     NaN     NaN         NaN\n"
     ]
    },
    {
     "data": {
      "text/html": [
       "<div>\n",
       "<style scoped>\n",
       "    .dataframe tbody tr th:only-of-type {\n",
       "        vertical-align: middle;\n",
       "    }\n",
       "\n",
       "    .dataframe tbody tr th {\n",
       "        vertical-align: top;\n",
       "    }\n",
       "\n",
       "    .dataframe thead th {\n",
       "        text-align: right;\n",
       "    }\n",
       "</style>\n",
       "<table border=\"1\" class=\"dataframe\">\n",
       "  <thead>\n",
       "    <tr style=\"text-align: right;\">\n",
       "      <th></th>\n",
       "      <th>_url</th>\n",
       "      <th>name</th>\n",
       "      <th>birth_year</th>\n",
       "      <th>weight</th>\n",
       "      <th>height</th>\n",
       "      <th>nationality</th>\n",
       "    </tr>\n",
       "  </thead>\n",
       "  <tbody>\n",
       "    <tr>\n",
       "      <th>9</th>\n",
       "      <td>scott-davies</td>\n",
       "      <td>Scott  Davies</td>\n",
       "      <td>NaN</td>\n",
       "      <td>NaN</td>\n",
       "      <td>NaN</td>\n",
       "      <td>NaN</td>\n",
       "    </tr>\n",
       "  </tbody>\n",
       "</table>\n",
       "</div>"
      ],
      "text/plain": [
       "           _url           name  birth_year  weight  height nationality\n",
       "9  scott-davies  Scott  Davies         NaN     NaN     NaN         NaN"
      ]
     },
     "execution_count": 92,
     "metadata": {},
     "output_type": "execute_result"
    }
   ],
   "source": [
    "df_cyclists.info()\n",
    "\n",
    "print(df_cyclists.loc[df_cyclists.nationality[df_cyclists.nationality.isna()].index])\n",
    "df_cyclists[df_cyclists['_url'] == 'scott-davies']"
   ]
  },
  {
   "cell_type": "markdown",
   "metadata": {},
   "source": [
    "These cyclists have unclear birth_year. Try to infer from their age in the other dataset"
   ]
  },
  {
   "cell_type": "code",
   "execution_count": 93,
   "metadata": {},
   "outputs": [
    {
     "data": {
      "text/html": [
       "<div>\n",
       "<style scoped>\n",
       "    .dataframe tbody tr th:only-of-type {\n",
       "        vertical-align: middle;\n",
       "    }\n",
       "\n",
       "    .dataframe tbody tr th {\n",
       "        vertical-align: top;\n",
       "    }\n",
       "\n",
       "    .dataframe thead th {\n",
       "        text-align: right;\n",
       "    }\n",
       "</style>\n",
       "<table border=\"1\" class=\"dataframe\">\n",
       "  <thead>\n",
       "    <tr style=\"text-align: right;\">\n",
       "      <th></th>\n",
       "      <th>_url</th>\n",
       "      <th>name</th>\n",
       "      <th>birth_year</th>\n",
       "      <th>weight</th>\n",
       "      <th>height</th>\n",
       "      <th>nationality</th>\n",
       "    </tr>\n",
       "  </thead>\n",
       "  <tbody>\n",
       "    <tr>\n",
       "      <th>9</th>\n",
       "      <td>scott-davies</td>\n",
       "      <td>Scott  Davies</td>\n",
       "      <td>NaN</td>\n",
       "      <td>NaN</td>\n",
       "      <td>NaN</td>\n",
       "      <td>NaN</td>\n",
       "    </tr>\n",
       "    <tr>\n",
       "      <th>601</th>\n",
       "      <td>vladimir-malakov</td>\n",
       "      <td>Vladimir  Malakov</td>\n",
       "      <td>NaN</td>\n",
       "      <td>NaN</td>\n",
       "      <td>NaN</td>\n",
       "      <td>Russia</td>\n",
       "    </tr>\n",
       "    <tr>\n",
       "      <th>894</th>\n",
       "      <td>antonio-zanini</td>\n",
       "      <td>Antonio  Zanini</td>\n",
       "      <td>NaN</td>\n",
       "      <td>NaN</td>\n",
       "      <td>NaN</td>\n",
       "      <td>Italy</td>\n",
       "    </tr>\n",
       "    <tr>\n",
       "      <th>2408</th>\n",
       "      <td>filippo-simonetti</td>\n",
       "      <td>Filippo  Simonetti</td>\n",
       "      <td>NaN</td>\n",
       "      <td>NaN</td>\n",
       "      <td>NaN</td>\n",
       "      <td>Italy</td>\n",
       "    </tr>\n",
       "    <tr>\n",
       "      <th>2515</th>\n",
       "      <td>carlos-garcia</td>\n",
       "      <td>Carlos  García</td>\n",
       "      <td>NaN</td>\n",
       "      <td>NaN</td>\n",
       "      <td>NaN</td>\n",
       "      <td>Spain</td>\n",
       "    </tr>\n",
       "    <tr>\n",
       "      <th>2536</th>\n",
       "      <td>alexandr-osipov</td>\n",
       "      <td>Alexandr  Osipov</td>\n",
       "      <td>NaN</td>\n",
       "      <td>NaN</td>\n",
       "      <td>NaN</td>\n",
       "      <td>Russia</td>\n",
       "    </tr>\n",
       "    <tr>\n",
       "      <th>3046</th>\n",
       "      <td>nicolai-kosyakov</td>\n",
       "      <td>Nicolai  Kosyakov</td>\n",
       "      <td>NaN</td>\n",
       "      <td>NaN</td>\n",
       "      <td>NaN</td>\n",
       "      <td>Russia</td>\n",
       "    </tr>\n",
       "    <tr>\n",
       "      <th>3551</th>\n",
       "      <td>nevens-guy</td>\n",
       "      <td>Guy  Nevens</td>\n",
       "      <td>NaN</td>\n",
       "      <td>NaN</td>\n",
       "      <td>NaN</td>\n",
       "      <td>Belgium</td>\n",
       "    </tr>\n",
       "    <tr>\n",
       "      <th>4142</th>\n",
       "      <td>oscar-pumar</td>\n",
       "      <td>Oscar  Pumar</td>\n",
       "      <td>NaN</td>\n",
       "      <td>NaN</td>\n",
       "      <td>NaN</td>\n",
       "      <td>Venezuela</td>\n",
       "    </tr>\n",
       "    <tr>\n",
       "      <th>4384</th>\n",
       "      <td>javier-luquin</td>\n",
       "      <td>Javier  Luquin</td>\n",
       "      <td>NaN</td>\n",
       "      <td>NaN</td>\n",
       "      <td>NaN</td>\n",
       "      <td>Spain</td>\n",
       "    </tr>\n",
       "    <tr>\n",
       "      <th>4756</th>\n",
       "      <td>thierry-lauder</td>\n",
       "      <td>Thierry  Lauder</td>\n",
       "      <td>NaN</td>\n",
       "      <td>NaN</td>\n",
       "      <td>NaN</td>\n",
       "      <td>France</td>\n",
       "    </tr>\n",
       "    <tr>\n",
       "      <th>6072</th>\n",
       "      <td>sergei-jermachenko</td>\n",
       "      <td>Sergei  Jermachenko</td>\n",
       "      <td>NaN</td>\n",
       "      <td>NaN</td>\n",
       "      <td>NaN</td>\n",
       "      <td>Russia</td>\n",
       "    </tr>\n",
       "    <tr>\n",
       "      <th>6080</th>\n",
       "      <td>batik-odriozola</td>\n",
       "      <td>Batik  Odriozola</td>\n",
       "      <td>NaN</td>\n",
       "      <td>NaN</td>\n",
       "      <td>NaN</td>\n",
       "      <td>Spain</td>\n",
       "    </tr>\n",
       "  </tbody>\n",
       "</table>\n",
       "</div>"
      ],
      "text/plain": [
       "                    _url                 name  birth_year  weight  height  \\\n",
       "9           scott-davies        Scott  Davies         NaN     NaN     NaN   \n",
       "601     vladimir-malakov    Vladimir  Malakov         NaN     NaN     NaN   \n",
       "894       antonio-zanini      Antonio  Zanini         NaN     NaN     NaN   \n",
       "2408   filippo-simonetti   Filippo  Simonetti         NaN     NaN     NaN   \n",
       "2515       carlos-garcia       Carlos  García         NaN     NaN     NaN   \n",
       "2536     alexandr-osipov     Alexandr  Osipov         NaN     NaN     NaN   \n",
       "3046    nicolai-kosyakov    Nicolai  Kosyakov         NaN     NaN     NaN   \n",
       "3551          nevens-guy          Guy  Nevens         NaN     NaN     NaN   \n",
       "4142         oscar-pumar         Oscar  Pumar         NaN     NaN     NaN   \n",
       "4384       javier-luquin       Javier  Luquin         NaN     NaN     NaN   \n",
       "4756      thierry-lauder      Thierry  Lauder         NaN     NaN     NaN   \n",
       "6072  sergei-jermachenko  Sergei  Jermachenko         NaN     NaN     NaN   \n",
       "6080     batik-odriozola     Batik  Odriozola         NaN     NaN     NaN   \n",
       "\n",
       "     nationality  \n",
       "9            NaN  \n",
       "601       Russia  \n",
       "894        Italy  \n",
       "2408       Italy  \n",
       "2515       Spain  \n",
       "2536      Russia  \n",
       "3046      Russia  \n",
       "3551     Belgium  \n",
       "4142   Venezuela  \n",
       "4384       Spain  \n",
       "4756      France  \n",
       "6072      Russia  \n",
       "6080       Spain  "
      ]
     },
     "execution_count": 93,
     "metadata": {},
     "output_type": "execute_result"
    }
   ],
   "source": [
    "df_cyclists.loc[df_cyclists.birth_year[df_cyclists.birth_year.isna()].index]"
   ]
  },
  {
   "cell_type": "markdown",
   "metadata": {},
   "source": [
    "## Races analysis"
   ]
  },
  {
   "cell_type": "code",
   "execution_count": 94,
   "metadata": {},
   "outputs": [
    {
     "name": "stdout",
     "output_type": "stream",
     "text": [
      "<class 'pandas.core.frame.DataFrame'>\n",
      "RangeIndex: 589865 entries, 0 to 589864\n",
      "Data columns (total 18 columns):\n",
      " #   Column               Non-Null Count   Dtype         \n",
      "---  ------               --------------   -----         \n",
      " 0   _url                 589865 non-null  object        \n",
      " 1   name                 589865 non-null  object        \n",
      " 2   points               589388 non-null  float64       \n",
      " 3   uci_points           251086 non-null  float64       \n",
      " 4   length               589865 non-null  float64       \n",
      " 5   climb_total          442820 non-null  float64       \n",
      " 6   profile              441671 non-null  float64       \n",
      " 7   startlist_quality    589865 non-null  int64         \n",
      " 8   average_temperature  29933 non-null   float64       \n",
      " 9   date                 589865 non-null  datetime64[ns]\n",
      " 10  position             589865 non-null  int64         \n",
      " 11  cyclist              589865 non-null  object        \n",
      " 12  cyclist_age          589752 non-null  float64       \n",
      " 13  is_tarmac            589865 non-null  bool          \n",
      " 14  is_cobbled           589865 non-null  bool          \n",
      " 15  is_gravel            589865 non-null  bool          \n",
      " 16  cyclist_team         430704 non-null  object        \n",
      " 17  delta                589865 non-null  float64       \n",
      "dtypes: bool(3), datetime64[ns](1), float64(8), int64(2), object(4)\n",
      "memory usage: 69.2+ MB\n"
     ]
    }
   ],
   "source": [
    "df_races.info()"
   ]
  },
  {
   "cell_type": "markdown",
   "metadata": {},
   "source": [
    "Can remove is_cobbled and is_gravel as they are constant"
   ]
  },
  {
   "cell_type": "code",
   "execution_count": 95,
   "metadata": {},
   "outputs": [
    {
     "name": "stdout",
     "output_type": "stream",
     "text": [
      "[False]\n",
      "[False]\n"
     ]
    }
   ],
   "source": [
    "#getting unique values of boolean columns\n",
    "print(df_races.is_cobbled.unique())\n",
    "print(df_races.is_gravel.unique())"
   ]
  },
  {
   "cell_type": "code",
   "execution_count": 96,
   "metadata": {},
   "outputs": [
    {
     "name": "stdout",
     "output_type": "stream",
     "text": [
      "<class 'pandas.core.frame.DataFrame'>\n",
      "RangeIndex: 589865 entries, 0 to 589864\n",
      "Data columns (total 20 columns):\n",
      " #   Column               Non-Null Count   Dtype         \n",
      "---  ------               --------------   -----         \n",
      " 0   _url                 589865 non-null  object        \n",
      " 1   location             589865 non-null  object        \n",
      " 2   points               589388 non-null  float64       \n",
      " 3   uci_points           251086 non-null  float64       \n",
      " 4   length               589865 non-null  float64       \n",
      " 5   climb_total          442820 non-null  float64       \n",
      " 6   profile              441671 non-null  float64       \n",
      " 7   startlist_quality    589865 non-null  int64         \n",
      " 8   average_temperature  29933 non-null   float64       \n",
      " 9   date                 589865 non-null  datetime64[ns]\n",
      " 10  position             589865 non-null  int64         \n",
      " 11  cyclist              589865 non-null  object        \n",
      " 12  cyclist_age          589752 non-null  float64       \n",
      " 13  is_tarmac            589865 non-null  bool          \n",
      " 14  cyclist_team         430704 non-null  object        \n",
      " 15  delta                589865 non-null  float64       \n",
      " 16  birth_year           589752 non-null  float64       \n",
      " 17  weight               478431 non-null  float64       \n",
      " 18  height               479746 non-null  float64       \n",
      " 19  nationality          589813 non-null  object        \n",
      "dtypes: bool(1), datetime64[ns](1), float64(11), int64(2), object(5)\n",
      "memory usage: 86.1+ MB\n"
     ]
    }
   ],
   "source": [
    "dm.df.info()"
   ]
  },
  {
   "cell_type": "markdown",
   "metadata": {},
   "source": [
    "The positions are 0-indexed, meaning that the position 0 is the first place. The reason we infer this is because the number of 0 positions exactly coincide with the number of different races in the dataset (5281). The delta seems to be zero for higher positions on the grid. The maximum is 204, seems unlikely, need to understand if 0 is the (unfortunate) default value.\n",
    "\n",
    "Probably 0 is default value for delta"
   ]
  },
  {
   "cell_type": "code",
   "execution_count": 97,
   "metadata": {},
   "outputs": [
    {
     "name": "stdout",
     "output_type": "stream",
     "text": [
      "(2235, 20)\n",
      "204\n"
     ]
    },
    {
     "data": {
      "text/plain": [
       "(5281,)"
      ]
     },
     "execution_count": 97,
     "metadata": {},
     "output_type": "execute_result"
    }
   ],
   "source": [
    "#print(dm.df.loc[dm.df.position == 0].shape)\n",
    "#print(dm.df.loc[dm.df.position == 1].shape)\n",
    "\n",
    "print(dm.df.loc[(dm.df.delta == 0) & (dm.df.position == 2)].shape)\n",
    "print(dm.df.loc[dm.df.delta == 0].position.max())\n",
    "dm.df._url.unique().shape"
   ]
  },
  {
   "cell_type": "markdown",
   "metadata": {},
   "source": [
    "In pandas if there are NaN values the column cannot be an integer column. Thus after imputation we have to recast as integer the following columns"
   ]
  },
  {
   "cell_type": "code",
   "execution_count": 98,
   "metadata": {},
   "outputs": [
    {
     "name": "stdout",
     "output_type": "stream",
     "text": [
      "True\n",
      "True\n",
      "True\n",
      "False\n"
     ]
    }
   ],
   "source": [
    "print(all(x.is_integer() for x in dm.df.points.dropna())) #points column is integer\n",
    "print(all(x.is_integer() for x in dm.df.uci_points.dropna())) #uci_points column is integer\n",
    "print(all(x.is_integer() for x in dm.df.climb_total.dropna())) #climb_total column is integer\n",
    "print(all(x.is_integer() for x in dm.df.length.dropna())) #length column is integer"
   ]
  },
  {
   "cell_type": "markdown",
   "metadata": {},
   "source": [
    "The \"profile\" column is categorical, values ranging from 1 to 5. (also need to recast after imputation)"
   ]
  },
  {
   "cell_type": "code",
   "execution_count": 99,
   "metadata": {},
   "outputs": [
    {
     "data": {
      "text/plain": [
       "array([ 1.,  5., nan,  3.,  2.,  4.])"
      ]
     },
     "execution_count": 99,
     "metadata": {},
     "output_type": "execute_result"
    }
   ],
   "source": [
    "dm.df.profile.unique()"
   ]
  },
  {
   "cell_type": "markdown",
   "metadata": {},
   "source": [
    "The startlist are integers representing how strong the lineup is. They are sparse."
   ]
  },
  {
   "cell_type": "code",
   "execution_count": 100,
   "metadata": {},
   "outputs": [
    {
     "data": {
      "text/plain": [
       "array([1241,  821, 1699,  804, 1551,  899,  659,  388,  900,  541,  830,\n",
       "        789,  602,  817, 1400, 1161, 1040,  896,  791,  819,  670,  225,\n",
       "        520, 1057,  809,  828,  722,  747,  714,  815,  376,  621,  760,\n",
       "        798,  933, 1994, 1437, 1362,  884, 1150,  971,  881, 1112, 1175,\n",
       "        891,  878,  400,  936,  692,  727, 1002,  928, 1196, 1489,  687,\n",
       "        585,  835,  673, 1328,  885,  502,  861,  982,  923, 1036, 1690,\n",
       "        925,  989, 1109, 1084,  803,  792,  548,  668, 1713, 1520, 1959,\n",
       "        883,  859, 2047, 1024,  533, 1269,  751, 1202,  570, 1703, 1416,\n",
       "        251, 1158, 1139,  657, 1048,  521, 1034, 1099,  880, 1029,  627,\n",
       "        340,  767,  737, 1220,  824,  369, 1255, 1019,  995, 1059, 1342,\n",
       "        968,  676, 1381,  705,  680,  779, 1123, 1020, 1632, 1251, 1470,\n",
       "        708,  892,  523,  590,  604,  781,  614, 1309,  951, 1812,  877,\n",
       "       1758,  843, 1041, 1646,  935,  660,  961, 1238, 1496,  765,  494,\n",
       "       1933,  956, 1849, 1136,  393,  882,  597,  874,  908,  888,  530,\n",
       "       1089,  446,  838,  373, 1872,  638,  794,  932, 1331,  377,  719,\n",
       "       1121, 1042, 1165, 1105, 1535, 1492,  732,  866,  920,  917, 1584,\n",
       "        653,  906,  551,  611,  772,  852,  607, 1177,  389,  873,  966,\n",
       "        775,  790, 1090,  302,  478,  952, 1176, 1017, 1278,  762,  508,\n",
       "       1612,  930,  477, 1557,  972,  811, 1941, 1365, 1555,  442, 1443,\n",
       "        655,  807, 1044,  463,  200, 1685,  721,  960, 1182, 1005,  698,\n",
       "       1067,  352, 1061,  850,  997,  538,  844,  636,  869,  699,  929,\n",
       "       1170,  616,  490, 1063,  944,  800, 1871,  988,  778, 1292, 1079,\n",
       "       1038,  480, 1791,  889,  156,  857,  536,  710,  605, 1058,  724,\n",
       "        439,  608,  771, 1086,  766,  549,  327,  516,  806, 1033,  886,\n",
       "        734, 1148,  981,  764, 1053,  691,  457,  666,  758,  658, 1146,\n",
       "        741, 1117,  975,  518, 1804, 1023,  847, 1164, 1224, 1045,  431,\n",
       "       1108,  362, 1101,  973,  579,  927,  774,  895,  491, 1128,  926,\n",
       "        795, 1689, 1434, 1275,  915,  914,  492,  690,  943,  731,  507,\n",
       "       1188,  700,  574,  603,  802,  568,  816,  709,  922, 1197,  433,\n",
       "        343,  785,  572,  386,  429, 1212, 1630,  855,  780,  782,  898,\n",
       "        890, 1192,  940,  701,  985,  438, 1216,  391,  831,  637,  697,\n",
       "        505,  447, 1100, 1110,  787,  319,  529, 1091, 1168, 1704, 1688,\n",
       "        394,  644,  958,  544,  526,  864, 1225, 1530,  970,  565,  566,\n",
       "        704,  681,  379, 1026,  473,  651,  599,  455,  953,  902, 1198,\n",
       "        556, 1243, 1210,  949,  941,  912,  601,  910, 1092,  171,  746,\n",
       "        512,  646, 1047,  540,  269, 1377,  717, 1731,  754,  909,  560,\n",
       "       1133,  674, 1242,  845,  872,  557,  640,  749, 1071,  615,  428,\n",
       "       1485, 1189,  323, 1008,  837,  992,  641,  535, 1230,  740,  938,\n",
       "        688,  678, 1115,  643, 1085,  755,  633, 1232,  998,  595,  796,\n",
       "        868,  823, 1476,  426, 1166,  443,  649,  853,  261, 1677,  684,\n",
       "        427, 1088, 1147,  515, 1352,  583, 1082, 1070, 1206,  742,  441,\n",
       "        419,  748,  763,  341,  808,  451, 1012,  372,  250,  867,  460,\n",
       "       1068,  194, 1359,  594, 1087, 1458,  559, 1120,  304, 1594,  588,\n",
       "        733, 1122,  652,  532,  918,  947,  489, 1526,  783,  735, 1201,\n",
       "        479,  586,  769,  959,  546, 1603,  829,  513, 1056,  693, 1163,\n",
       "        634,  854,  799,  832,  454,  335, 1254,  328,  434, 1608, 1247,\n",
       "        228, 1080,  262,  339, 1235,  484,  504,  695, 1259,  978, 1233,\n",
       "       1249, 1229,  842,  682,  416,  281,  625,  630,  584, 1140, 1486,\n",
       "       1290,  282,  303, 1253,  424, 1208,  539, 1217, 1294,  578, 1134,\n",
       "        399, 1585, 1054, 1404,  777, 1159,  996,  471,  410, 1386, 1143,\n",
       "        977,  756, 1178,  836,  860, 1096,  865,  685,  330,  554,  617,\n",
       "        575,  648, 1263, 1116, 1398,  862,  216, 1307, 1614, 1305,  718,\n",
       "        234,  136, 1428, 1039,  759,  498, 1480, 1154, 1353,  623,  488,\n",
       "       1186,  320,  527,  558,  403,  483,  445,  683,  226,  563,  645,\n",
       "        707,  631,  893, 1313, 1106, 1626, 1030, 1277, 1436,  962, 1374,\n",
       "       1138, 1094,  580,  887,  589, 1256, 1303,  449, 1211,  561, 1018,\n",
       "       1052,  241,  472, 1179,  770,  232,  191,  661,  964,  542, 1319,\n",
       "       1191, 1327,  474,  552, 1723,  115, 1355, 1346, 1306, 1098,  656,\n",
       "       1130,  378, 1329, 1347,  467, 1218, 1025, 1296, 1357,  418,  510,\n",
       "        632, 1009,  258, 1600,  141,  752, 1580, 1028, 1013,  493, 1032,\n",
       "        993, 1566,  423, 1439, 1069, 1599,  301,  567, 1016,  856,  358,\n",
       "        430,  610,  773,  662,  613,  827, 1152, 1332, 1310,  797, 1004,\n",
       "        999,  318,  677, 1075, 1322,  805,  626, 1794, 1483,  736,  390,\n",
       "        745, 1601, 1171, 1149])"
      ]
     },
     "execution_count": 100,
     "metadata": {},
     "output_type": "execute_result"
    }
   ],
   "source": [
    "dm.df.startlist_quality.unique()"
   ]
  },
  {
   "cell_type": "markdown",
   "metadata": {},
   "source": [
    "Cannot infer birth year from age: they are both NaN in the same exact cases."
   ]
  },
  {
   "cell_type": "code",
   "execution_count": 101,
   "metadata": {},
   "outputs": [
    {
     "name": "stdout",
     "output_type": "stream",
     "text": [
      "0 alexandr-osipov\n",
      "2536   NaN\n",
      "Name: birth_year, dtype: float64\n",
      "1 antonio-zanini\n",
      "894   NaN\n",
      "Name: birth_year, dtype: float64\n",
      "2 batik-odriozola\n",
      "6080   NaN\n",
      "Name: birth_year, dtype: float64\n",
      "3 carlos-garcia\n",
      "2515   NaN\n",
      "Name: birth_year, dtype: float64\n",
      "4 filippo-simonetti\n",
      "2408   NaN\n",
      "Name: birth_year, dtype: float64\n",
      "5 javier-luquin\n",
      "4384   NaN\n",
      "Name: birth_year, dtype: float64\n",
      "6 nevens-guy\n",
      "3551   NaN\n",
      "Name: birth_year, dtype: float64\n",
      "7 nicolai-kosyakov\n",
      "3046   NaN\n",
      "Name: birth_year, dtype: float64\n",
      "8 oscar-pumar\n",
      "4142   NaN\n",
      "Name: birth_year, dtype: float64\n",
      "9 scott-davies\n",
      "9   NaN\n",
      "Name: birth_year, dtype: float64\n",
      "10 sergei-jermachenko\n",
      "6072   NaN\n",
      "Name: birth_year, dtype: float64\n",
      "11 thierry-lauder\n",
      "4756   NaN\n",
      "Name: birth_year, dtype: float64\n",
      "12 vladimir-malakov\n",
      "601   NaN\n",
      "Name: birth_year, dtype: float64\n"
     ]
    }
   ],
   "source": [
    "#group by cyclist and show if there is a value different from Nan\n",
    "\n",
    "ages = dm.df.groupby('cyclist')['cyclist_age'].unique()\n",
    "\n",
    "ages = ages.apply(lambda x: np.isnan(x).all())\n",
    "# names for which is true\n",
    "ages = ages[ages == True].index\n",
    "\n",
    "for idx, name in enumerate(ages):\n",
    "    print(idx,name)\n",
    "    print(df_cyclists.loc[df_cyclists['_url'] == name].birth_year)\n",
    "    #print(df_cyclists.loc[df_cyclists['_url'] == name])\n",
    "\n"
   ]
  },
  {
   "cell_type": "markdown",
   "metadata": {},
   "source": [
    "one profile per _url not unique per Location\n",
    "\n",
    "\n",
    "one location per _url \n",
    "\n",
    "\n",
    "one points per _url Not unique per location\n",
    "\n",
    "one uci_points per _url Not unique per location\n",
    "\n",
    "one length per _url Not u x loc\n",
    "\n",
    "one climb_total per _url  (this is strange, there are floats, but the floats have small decimal part with lot of zeros)\n",
    "\n",
    "one startlist_quality per _url (not u x loc)"
   ]
  },
  {
   "cell_type": "code",
   "execution_count": 135,
   "metadata": {},
   "outputs": [
    {
     "name": "stdout",
     "output_type": "stream",
     "text": [
      "location\n",
      "Amstel Gold Race                                   53\n",
      "Clasica Ciclista San Sebastian                     34\n",
      "Clásica Ciclista San Sebastián                      2\n",
      "Clásica San Sebastián                               2\n",
      "Criterium du Dauphiné Libére                        2\n",
      "Critérium du Dauphiné                              13\n",
      "Critérium du Dauphiné Libéré                       23\n",
      "Donostia San Sebastian Klasikoa                     3\n",
      "Dwars door België / À travers la Belgique          12\n",
      "Dwars door Vlaanderen                              13\n",
      "Dwars door Vlaanderen - A travers la Flandre ME     5\n",
      "Dwars door Vlaanderen / A travers la Flandre        3\n",
      "E3 Harelbeke                                        3\n",
      "E3 Prijs Vlaanderen                                10\n",
      "E3 Saxo Bank Classic                                2\n",
      "E3-Prijs Harelbeke                                 32\n",
      "Giro d'Italia                                      33\n",
      "Giro di Lombardia                                  40\n",
      "Grand Prix Cycliste de Montréal                    11\n",
      "Grand Prix Cycliste de Quebec                       4\n",
      "Grand Prix Cycliste de Québec                       7\n",
      "Il Lombardia                                       12\n",
      "Itzulia Basque Country                              5\n",
      "La Flèche Wallonne                                 48\n",
      "La Vuelta ciclista a España                         5\n",
      "Liège - Bastogne - Liège                           46\n",
      "Liège-Bastogne-Liège                                5\n",
      "Milano-Sanremo                                     43\n",
      "Monte Paschi Eroica                                 3\n",
      "Montepaschi Strade Bianche - Eroica Toscana         3\n",
      "Omloop Het Nieuwsblad ME                           15\n",
      "Omloop Het Volk                                    34\n",
      "Omloop Het Volk ME                                  2\n",
      "Paris - Nice                                       46\n",
      "Paris - Roubaix                                    44\n",
      "Paris-Roubaix                                       6\n",
      "Record Bank E3 Harelbeke                            2\n",
      "Ronde van Vlaanderen - Tour des Flandres ME         6\n",
      "Ronde van Vlaanderen / Tour des Flandres           33\n",
      "Ronde van Vlaanderen / Tour des Flandres ME        14\n",
      "Strade Bianche                                     11\n",
      "Tirreno-Adriatico                                  43\n",
      "Tour de France                                     40\n",
      "Tour de Romandie                                   40\n",
      "Tour de Suisse                                     45\n",
      "UAE Tour                                            5\n",
      "Volta Ciclista a Catalunya                         33\n",
      "Volta a Catalunya                                   5\n",
      "Vuelta Ciclista al País Vasco                      12\n",
      "Vuelta a España                                    38\n",
      "Vuelta al País Vasco                                9\n",
      "World Championships - Road Race                    29\n",
      "World Championships ME - Road Race                 23\n",
      "Name: startlist_quality, dtype: int64\n"
     ]
    }
   ],
   "source": [
    "# check which column only depends on the races\n",
    "profile_counts = dm.df.groupby('location')['startlist_quality'].nunique()\n",
    "print(profile_counts[profile_counts > 1])\n",
    "\n",
    "# print urls with delta == 0 for position != 0\n",
    "#print(dm.df.loc[(dm.df.delta == 0) & (dm.df.position != 0)]._url.unique().shape)\n",
    "\n",
    "#urls_with_all_positions_delta_zero = dm.df.groupby('_url')['delta'].max()\n",
    "#urls_with_all_positions_delta_zero = urls_with_all_positions_delta_zero[urls_with_all_positions_delta_zero == 0].index\n",
    "#print(urls_with_all_positions_delta_zero)"
   ]
  },
  {
   "cell_type": "code",
   "execution_count": 103,
   "metadata": {},
   "outputs": [
    {
     "name": "stdout",
     "output_type": "stream",
     "text": [
      "11632      32200.0\n",
      "11633      32200.0\n",
      "11634      32200.0\n",
      "11635      32200.0\n",
      "11636      32200.0\n",
      "            ...   \n",
      "509529    258100.0\n",
      "509530    258100.0\n",
      "509531    258100.0\n",
      "509532    258100.0\n",
      "509533    258100.0\n",
      "Name: length, Length: 1451, dtype: float64\n"
     ]
    }
   ],
   "source": [
    "non_integer_lengths = dm.df.length[~dm.df.length.dropna().apply(float.is_integer)]\n",
    "print(non_integer_lengths)"
   ]
  },
  {
   "cell_type": "code",
   "execution_count": 104,
   "metadata": {},
   "outputs": [
    {
     "data": {
      "text/plain": [
       "np.float64(32200.000000000004)"
      ]
     },
     "execution_count": 104,
     "metadata": {},
     "output_type": "execute_result"
    }
   ],
   "source": [
    "dm.df.loc[11632].length"
   ]
  },
  {
   "cell_type": "markdown",
   "metadata": {},
   "source": [
    "Every _url has exactly one position zero --> pos zero means first"
   ]
  },
  {
   "cell_type": "code",
   "execution_count": 130,
   "metadata": {},
   "outputs": [
    {
     "name": "stdout",
     "output_type": "stream",
     "text": [
      "(5281, 20)\n",
      "(5281, 2)\n"
     ]
    }
   ],
   "source": [
    "#check if, for every _url, there is position 0, and there is onyl one position 0\n",
    "\n",
    "#get all records with position 0\n",
    "position_zero = dm.df[dm.df.position == 0]\n",
    "\n",
    "print(position_zero.shape)\n",
    "# project onyl on the two interesting columns\n",
    "position_zero = position_zero[['_url', 'position']]\n",
    "# remove duplicates\n",
    "position_zero = position_zero.drop_duplicates()\n",
    "print(position_zero.shape)"
   ]
  }
 ],
 "metadata": {
  "kernelspec": {
   "display_name": "venv",
   "language": "python",
   "name": "python3"
  },
  "language_info": {
   "codemirror_mode": {
    "name": "ipython",
    "version": 3
   },
   "file_extension": ".py",
   "mimetype": "text/x-python",
   "name": "python",
   "nbconvert_exporter": "python",
   "pygments_lexer": "ipython3",
   "version": "3.11.8"
  }
 },
 "nbformat": 4,
 "nbformat_minor": 2
}
