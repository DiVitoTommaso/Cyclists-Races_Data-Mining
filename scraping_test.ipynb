{
 "cells": [
  {
   "cell_type": "code",
   "execution_count": 79,
   "metadata": {},
   "outputs": [],
   "source": [
    "import procyclingstats as pcs\n",
    "import pandas as pd"
   ]
  },
  {
   "cell_type": "code",
   "execution_count": 80,
   "metadata": {},
   "outputs": [],
   "source": [
    "from typing import List, Tuple, Union\n",
    "from procyclingstats.errors import UnexpectedParsingError\n",
    "from procyclingstats.table_parser import TableParser\n",
    "\n",
    "\n",
    "def parse(self, fields: Union[List[str], Tuple[str, ...]]) -> None:\n",
    "\n",
    "    raw_table = []\n",
    "    for _ in range(self.table_length):\n",
    "        raw_table.append({})\n",
    "\n",
    "    for field in fields:\n",
    "        if field != \"class\":\n",
    "            parsed_field_list = getattr(self, field)()\n",
    "        # special case when field is called class\n",
    "        else:\n",
    "            parsed_field_list = getattr(self, \"class_\")()\n",
    "        # field wasn't found in every table row, so isn't matching table\n",
    "        # rows correctly\n",
    "        if len(parsed_field_list) != self.table_length:\n",
    "            message = f\"Field '{field}' wasn't parsed correctly\"\n",
    "            raise UnexpectedParsingError(message)\n",
    "\n",
    "        for row, parsed_value in zip(raw_table, parsed_field_list):\n",
    "            row[field] = parsed_value\n",
    "\n",
    "    # remove unwanted rows\n",
    "    for row in raw_table:\n",
    "        self.table.append(row)\n",
    "\n",
    "    # if \"time\" in fields and self.table:\n",
    "    # self._make_times_absolute()\n",
    "\n",
    "\n",
    "TableParser.parse = parse"
   ]
  },
  {
   "cell_type": "code",
   "execution_count": 81,
   "metadata": {},
   "outputs": [
    {
     "data": {
      "text/plain": [
       "Rider(url='https://www.procyclingstats.com/rider/bruno-surra')"
      ]
     },
     "execution_count": 81,
     "metadata": {},
     "output_type": "execute_result"
    }
   ],
   "source": [
    "rider = pcs.Rider(\"rider/bruno-surra\")\n",
    "rider"
   ]
  },
  {
   "cell_type": "code",
   "execution_count": 82,
   "metadata": {},
   "outputs": [
    {
     "name": "stdout",
     "output_type": "stream",
     "text": [
      "<class 'pandas.core.frame.DataFrame'>\n",
      "RangeIndex: 589865 entries, 0 to 589864\n",
      "Data columns (total 18 columns):\n",
      " #   Column               Non-Null Count   Dtype  \n",
      "---  ------               --------------   -----  \n",
      " 0   _url                 589865 non-null  object \n",
      " 1   name                 589865 non-null  object \n",
      " 2   points               589388 non-null  float64\n",
      " 3   uci_points           251086 non-null  float64\n",
      " 4   length               589865 non-null  float64\n",
      " 5   climb_total          442820 non-null  float64\n",
      " 6   profile              441671 non-null  float64\n",
      " 7   startlist_quality    589865 non-null  int64  \n",
      " 8   average_temperature  29933 non-null   float64\n",
      " 9   date                 589865 non-null  object \n",
      " 10  position             589865 non-null  int64  \n",
      " 11  cyclist              589865 non-null  object \n",
      " 12  cyclist_age          589752 non-null  float64\n",
      " 13  is_tarmac            589865 non-null  bool   \n",
      " 14  is_cobbled           589865 non-null  bool   \n",
      " 15  is_gravel            589865 non-null  bool   \n",
      " 16  cyclist_team         430704 non-null  object \n",
      " 17  delta                589865 non-null  float64\n",
      "dtypes: bool(3), float64(8), int64(2), object(5)\n",
      "memory usage: 69.2+ MB\n"
     ]
    }
   ],
   "source": [
    "df_races = pd.read_csv(\"dataset/races.csv\")\n",
    "df_races.info()"
   ]
  },
  {
   "cell_type": "code",
   "execution_count": 83,
   "metadata": {},
   "outputs": [],
   "source": [
    "# get _url which have negative delta\n",
    "bad_urls = df_races.loc[df_races[\"delta\"] < 0, \"_url\"]\n",
    "bad_urls = bad_urls.unique()"
   ]
  },
  {
   "cell_type": "code",
   "execution_count": 84,
   "metadata": {},
   "outputs": [],
   "source": [
    "def time_to_seconds(time):\n",
    "    h, m, s = time.split(\":\")\n",
    "    h = int(h) * 3600\n",
    "    m = int(m) * 60\n",
    "    s = int(s)\n",
    "    sign = -1 if m < 0 or h < 0 or s < 0 else 1\n",
    "    return sign * (abs(h) + abs(m) + abs(s))"
   ]
  },
  {
   "cell_type": "code",
   "execution_count": 85,
   "metadata": {},
   "outputs": [
    {
     "name": "stdout",
     "output_type": "stream",
     "text": [
      "Stage(url='https://www.procyclingstats.com/race/vuelta-a-espana/1992/stage-19')\n",
      "70641      0.0\n",
      "70642     52.0\n",
      "70643     68.0\n",
      "70644     93.0\n",
      "70645    100.0\n",
      "         ...  \n",
      "70721    363.0\n",
      "70722    369.0\n",
      "70723    371.0\n",
      "70724    372.0\n",
      "70725    375.0\n",
      "Name: delta, Length: 85, dtype: float64\n",
      "Stage(url='https://www.procyclingstats.com/race/paris-nice/1990/stage-7a')\n",
      "229663       0.0\n",
      "229664      27.0\n",
      "229665      27.0\n",
      "229666      27.0\n",
      "229667      27.0\n",
      "229668      27.0\n",
      "229669      27.0\n",
      "229670      27.0\n",
      "229671      27.0\n",
      "229672    1371.0\n",
      "Name: delta, dtype: float64\n",
      "Stage(url='https://www.procyclingstats.com/race/tour-de-france/2003/stage-12')\n",
      "413388      0.0\n",
      "413389     96.0\n",
      "413390    126.0\n",
      "413391    160.0\n",
      "413392    163.0\n",
      "          ...  \n",
      "413546    700.0\n",
      "413547    727.0\n",
      "413548    737.0\n",
      "413549    738.0\n",
      "413550    753.0\n",
      "Name: delta, Length: 163, dtype: float64\n",
      "Stage(url='https://www.procyclingstats.com/race/tour-de-suisse/1993/stage-4')\n",
      "520734     0.0\n",
      "520735    11.0\n",
      "520736    58.0\n",
      "520737    19.0\n",
      "520738    19.0\n",
      "520739    19.0\n",
      "Name: delta, dtype: float64\n"
     ]
    }
   ],
   "source": [
    "for RACE_URL in bad_urls:\n",
    "    stage = pcs.Stage(f\"race/{RACE_URL}\")\n",
    "    print(stage)\n",
    "    ranking = stage.results(\"rider_url\", \"time\", \"rank\")\n",
    "    # for i in sorted(ranking,key = lambda x: x['rank']):\n",
    "    #    print(i)\n",
    "\n",
    "    # convert ranking to pandas table, ranking is a list of objects\n",
    "    df_ranking = pd.DataFrame(ranking)\n",
    "\n",
    "    df_ranking[\"time\"] = df_ranking[\"time\"].apply(time_to_seconds)\n",
    "\n",
    "    # sum first time to all other negative times\n",
    "    # first time is the time of the winner\n",
    "    first_time = df_ranking[\"time\"].loc[0]\n",
    "\n",
    "    # sum first time to all other negative times\n",
    "    df_ranking[\"time\"] = df_ranking[\"time\"].apply(\n",
    "        lambda x: x if x > 0 else first_time + x\n",
    "    )\n",
    "\n",
    "    df_ranking.loc[0, \"time\"] = 0\n",
    "\n",
    "    df_ranking.rider_url = df_ranking.rider_url.apply(\n",
    "        lambda x: x.split(\"/\")[-1]\n",
    "    )\n",
    "\n",
    "    for i in range(len(df_ranking)):\n",
    "        rider = df_ranking.loc[i, \"rider_url\"]\n",
    "        time = df_ranking.loc[i, \"time\"]\n",
    "\n",
    "        df_races.loc[\n",
    "            (df_races._url == RACE_URL) & (df_races.cyclist == rider),\n",
    "            \"delta\",\n",
    "        ] = time\n",
    "\n",
    "    print(\n",
    "        df_races.loc[\n",
    "            (df_races._url == RACE_URL),\n",
    "            \"delta\",\n",
    "        ]\n",
    "    )"
   ]
  },
  {
   "cell_type": "code",
   "execution_count": 86,
   "metadata": {},
   "outputs": [
    {
     "name": "stdout",
     "output_type": "stream",
     "text": [
      "True\n"
     ]
    }
   ],
   "source": [
    "# check if delta contains positive floats\n",
    "print(all(x.is_integer() for x in df_races.delta.dropna()))"
   ]
  },
  {
   "cell_type": "code",
   "execution_count": 87,
   "metadata": {},
   "outputs": [],
   "source": [
    "# make consistent deltas with position\n",
    "for stage in df_races._url.unique():\n",
    "    df_stage = df_races.loc[df_races._url == stage]\n",
    "    df_stage = df_stage.sort_values(\"position\")\n",
    "    df_stage.reset_index(drop=True, inplace=True)\n",
    "\n",
    "    for i in range(len(df_stage) - 1):\n",
    "        if (\n",
    "            df_stage.loc[i, \"delta\"] > df_stage.loc[i + 1, \"delta\"]\n",
    "        ):  # next position is faster\n",
    "            if (\n",
    "                df_stage.loc[i - 1, \"delta\"] <= df_stage.loc[i + 1, \"delta\"]\n",
    "            ):  # next consistent with previous -> put as average\n",
    "                df_races.loc[\n",
    "                    (df_races._url == stage) & df_races.cyclist\n",
    "                    == df_stage.loc[i, \"cyclist\"],\n",
    "                    \"delta\",\n",
    "                ] = df_stage.loc[i, \"delta\"] = round(\n",
    "                    (\n",
    "                        df_stage.loc[i - 1, \"delta\"]\n",
    "                        + df_stage.loc[i + 1, \"delta\"]\n",
    "                    )\n",
    "                    / 2\n",
    "                )\n",
    "            else:  # next not consistent with previous -> put as present\n",
    "                df_races.loc[\n",
    "                    (df_races._url == stage) & df_races.cyclist\n",
    "                    == df_stage.loc[i + 1, \"cyclist\"],\n",
    "                    \"delta\",\n",
    "                ] = df_stage.loc[i + 1, \"delta\"] = df_stage.loc[i, \"delta\"]\n",
    "\n",
    "    # control every position has higher delta\n",
    "    assert all(x <= y for x, y in zip(df_stage.delta, df_stage.delta[1:]))"
   ]
  },
  {
   "cell_type": "code",
   "execution_count": 88,
   "metadata": {},
   "outputs": [
    {
     "data": {
      "text/plain": [
       "Text(0, 0.5, 'Delta')"
      ]
     },
     "execution_count": 88,
     "metadata": {},
     "output_type": "execute_result"
    },
    {
     "data": {
      "image/png": "[encoded data removed]",
      "text/plain": [
       "<Figure size 1200x1000 with 1 Axes>"
      ]
     },
     "metadata": {},
     "output_type": "display_data"
    }
   ],
   "source": [
    "import matplotlib.pyplot as plt\n",
    "\n",
    "plt.figure(figsize=(12, 10))\n",
    "plt.scatter(df_races['position'], df_races['delta'])\n",
    "plt.xlabel('Position')\n",
    "plt.ylabel('Delta')"
   ]
  },
  {
   "cell_type": "markdown",
   "metadata": {},
   "source": [
    "## Teams imputation (scraping)"
   ]
  },
  {
   "cell_type": "markdown",
   "metadata": {},
   "source": [
    "Try solving the imputation of teams"
   ]
  },
  {
   "cell_type": "code",
   "execution_count": null,
   "metadata": {},
   "outputs": [],
   "source": [
    "# create a file for output\n",
    "with open(\"output.txt\", \"w\") as f:\n",
    "    f.write(\"This is the output file for storing prints.\\n\")"
   ]
  },
  {
   "cell_type": "code",
   "execution_count": 31,
   "metadata": {},
   "outputs": [],
   "source": [
    "df_bad_teams = df_races[df_races.cyclist_team.isna()]\n",
    "bad_urls = df_bad_teams._url.unique()"
   ]
  },
  {
   "cell_type": "code",
   "execution_count": null,
   "metadata": {},
   "outputs": [],
   "source": [
    "# arrivato a 3300 CONTINUA DA Lì\n",
    "with open(\"output.txt\", \"w\") as f:\n",
    "    for idx, url in enumerate(bad_urls):\n",
    "        if idx % 100 == 0:\n",
    "            print(f\"Processing {idx}/{len(bad_urls)}\")\n",
    "        stage = pcs.Stage(f\"race/{url}\")\n",
    "\n",
    "        ranking = stage.results(\"rider_url\", \"rank\", \"team_name\")\n",
    "        df_ranking = pd.DataFrame(ranking)\n",
    "        df_ranking.rider_url = df_ranking.rider_url.apply(\n",
    "            lambda x: x.split(\"/\")[-1]\n",
    "        )\n",
    "        df_url = df_bad_teams[df_bad_teams._url == url]\n",
    "\n",
    "        for i in range(len(df_url)):\n",
    "            rider = df_url.iloc[i].cyclist\n",
    "            try:\n",
    "                team = df_ranking.loc[\n",
    "                    df_ranking.rider_url == rider\n",
    "                ].team_name.values[0]\n",
    "            except IndexError:\n",
    "                print(stage)\n",
    "                print(f\"Rider {rider} not found in ranking\")\n",
    "                f.write(f\"{stage.__str__()}\\n\")\n",
    "                f.write(f\"Rider {rider} not found in ranking\\n\")\n",
    "                continue\n",
    "            df_bad_teams.loc[\n",
    "                (df_bad_teams._url == url) & (df_bad_teams.cyclist == rider),\n",
    "                \"cyclist_team\",\n",
    "            ] = team\n",
    "\n",
    "        # check if for this url all teams are filled\n",
    "        # assert all(df_bad_teams[df_bad_teams._url == url].cyclist_team.notna())"
   ]
  },
  {
   "cell_type": "code",
   "execution_count": 33,
   "metadata": {},
   "outputs": [],
   "source": [
    "# save the results\n",
    "df_bad_teams.to_csv(\"dataset/bad_teams_2.csv\", index=False)"
   ]
  },
  {
   "cell_type": "code",
   "execution_count": null,
   "metadata": {},
   "outputs": [],
   "source": [
    "df_bad_teams.info()"
   ]
  }
 ],
 "metadata": {
  "kernelspec": {
   "display_name": "venv",
   "language": "python",
   "name": "python3"
  },
  "language_info": {
   "codemirror_mode": {
    "name": "ipython",
    "version": 3
   },
   "file_extension": ".py",
   "mimetype": "text/x-python",
   "name": "python",
   "nbconvert_exporter": "python",
   "pygments_lexer": "ipython3",
   "version": "3.11.8"
  }
 },
 "nbformat": 4,
 "nbformat_minor": 2
}
