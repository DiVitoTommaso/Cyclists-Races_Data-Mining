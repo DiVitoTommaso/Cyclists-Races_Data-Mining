{
 "cells": [
  {
   "cell_type": "code",
   "execution_count": 18,
   "metadata": {},
   "outputs": [
    {
     "name": "stdout",
     "output_type": "stream",
     "text": [
      "The autoreload extension is already loaded. To reload it, use:\n",
      "  %reload_ext autoreload\n"
     ]
    }
   ],
   "source": [
    "%load_ext autoreload\n",
    "%autoreload 2"
   ]
  },
  {
   "cell_type": "code",
   "execution_count": 111,
   "metadata": {},
   "outputs": [],
   "source": [
    "import pandas as pd\n",
    "from libraries import scraping\n",
    "from matplotlib import pyplot as plt"
   ]
  },
  {
   "cell_type": "code",
   "execution_count": 26,
   "metadata": {},
   "outputs": [],
   "source": [
    "df = pd.read_csv(\"dataset/races.csv\", parse_dates=[\"date\"])"
   ]
  },
  {
   "cell_type": "code",
   "execution_count": 28,
   "metadata": {},
   "outputs": [
    {
     "name": "stdout",
     "output_type": "stream",
     "text": [
      "Scraping negative deltas\n",
      "Negative deltas found in:\n",
      "Stage(url='https://www.procyclingstats.com/race/vuelta-a-espana/1992/stage-19')\n",
      "Stage(url='https://www.procyclingstats.com/race/paris-nice/1990/stage-7a')\n",
      "Stage(url='https://www.procyclingstats.com/race/tour-de-france/2003/stage-12')\n",
      "Stage(url='https://www.procyclingstats.com/race/tour-de-suisse/1993/stage-4')\n"
     ]
    },
    {
     "data": {
      "text/html": [
       "<div>\n",
       "<style scoped>\n",
       "    .dataframe tbody tr th:only-of-type {\n",
       "        vertical-align: middle;\n",
       "    }\n",
       "\n",
       "    .dataframe tbody tr th {\n",
       "        vertical-align: top;\n",
       "    }\n",
       "\n",
       "    .dataframe thead th {\n",
       "        text-align: right;\n",
       "    }\n",
       "</style>\n",
       "<table border=\"1\" class=\"dataframe\">\n",
       "  <thead>\n",
       "    <tr style=\"text-align: right;\">\n",
       "      <th></th>\n",
       "      <th>_url</th>\n",
       "      <th>name</th>\n",
       "      <th>points</th>\n",
       "      <th>uci_points</th>\n",
       "      <th>length</th>\n",
       "      <th>climb_total</th>\n",
       "      <th>profile</th>\n",
       "      <th>startlist_quality</th>\n",
       "      <th>average_temperature</th>\n",
       "      <th>date</th>\n",
       "      <th>position</th>\n",
       "      <th>cyclist</th>\n",
       "      <th>cyclist_age</th>\n",
       "      <th>is_tarmac</th>\n",
       "      <th>is_cobbled</th>\n",
       "      <th>is_gravel</th>\n",
       "      <th>cyclist_team</th>\n",
       "      <th>delta</th>\n",
       "    </tr>\n",
       "  </thead>\n",
       "  <tbody>\n",
       "    <tr>\n",
       "      <th>0</th>\n",
       "      <td>tour-de-france/1978/stage-6</td>\n",
       "      <td>Tour de France</td>\n",
       "      <td>100.0</td>\n",
       "      <td>NaN</td>\n",
       "      <td>162000.0</td>\n",
       "      <td>1101.0</td>\n",
       "      <td>1.0</td>\n",
       "      <td>1241</td>\n",
       "      <td>NaN</td>\n",
       "      <td>1978-07-05 04:02:24</td>\n",
       "      <td>0</td>\n",
       "      <td>sean-kelly</td>\n",
       "      <td>22.0</td>\n",
       "      <td>True</td>\n",
       "      <td>False</td>\n",
       "      <td>False</td>\n",
       "      <td>vini-ricordi-pinarello-sidermec-1986</td>\n",
       "      <td>0.0</td>\n",
       "    </tr>\n",
       "    <tr>\n",
       "      <th>1</th>\n",
       "      <td>tour-de-france/1978/stage-6</td>\n",
       "      <td>Tour de France</td>\n",
       "      <td>100.0</td>\n",
       "      <td>NaN</td>\n",
       "      <td>162000.0</td>\n",
       "      <td>1101.0</td>\n",
       "      <td>1.0</td>\n",
       "      <td>1241</td>\n",
       "      <td>NaN</td>\n",
       "      <td>1978-07-05 04:02:24</td>\n",
       "      <td>1</td>\n",
       "      <td>gerrie-knetemann</td>\n",
       "      <td>27.0</td>\n",
       "      <td>True</td>\n",
       "      <td>False</td>\n",
       "      <td>False</td>\n",
       "      <td>norway-1987</td>\n",
       "      <td>0.0</td>\n",
       "    </tr>\n",
       "    <tr>\n",
       "      <th>2</th>\n",
       "      <td>tour-de-france/1978/stage-6</td>\n",
       "      <td>Tour de France</td>\n",
       "      <td>100.0</td>\n",
       "      <td>NaN</td>\n",
       "      <td>162000.0</td>\n",
       "      <td>1101.0</td>\n",
       "      <td>1.0</td>\n",
       "      <td>1241</td>\n",
       "      <td>NaN</td>\n",
       "      <td>1978-07-05 04:02:24</td>\n",
       "      <td>2</td>\n",
       "      <td>rene-bittinger</td>\n",
       "      <td>24.0</td>\n",
       "      <td>True</td>\n",
       "      <td>False</td>\n",
       "      <td>False</td>\n",
       "      <td>NaN</td>\n",
       "      <td>0.0</td>\n",
       "    </tr>\n",
       "    <tr>\n",
       "      <th>3</th>\n",
       "      <td>tour-de-france/1978/stage-6</td>\n",
       "      <td>Tour de France</td>\n",
       "      <td>100.0</td>\n",
       "      <td>NaN</td>\n",
       "      <td>162000.0</td>\n",
       "      <td>1101.0</td>\n",
       "      <td>1.0</td>\n",
       "      <td>1241</td>\n",
       "      <td>NaN</td>\n",
       "      <td>1978-07-05 04:02:24</td>\n",
       "      <td>3</td>\n",
       "      <td>joseph-bruyere</td>\n",
       "      <td>30.0</td>\n",
       "      <td>True</td>\n",
       "      <td>False</td>\n",
       "      <td>False</td>\n",
       "      <td>navigare-blue-storm-1993</td>\n",
       "      <td>0.0</td>\n",
       "    </tr>\n",
       "    <tr>\n",
       "      <th>4</th>\n",
       "      <td>tour-de-france/1978/stage-6</td>\n",
       "      <td>Tour de France</td>\n",
       "      <td>100.0</td>\n",
       "      <td>NaN</td>\n",
       "      <td>162000.0</td>\n",
       "      <td>1101.0</td>\n",
       "      <td>1.0</td>\n",
       "      <td>1241</td>\n",
       "      <td>NaN</td>\n",
       "      <td>1978-07-05 04:02:24</td>\n",
       "      <td>4</td>\n",
       "      <td>sven-ake-nilsson</td>\n",
       "      <td>27.0</td>\n",
       "      <td>True</td>\n",
       "      <td>False</td>\n",
       "      <td>False</td>\n",
       "      <td>spain-1991</td>\n",
       "      <td>0.0</td>\n",
       "    </tr>\n",
       "    <tr>\n",
       "      <th>...</th>\n",
       "      <td>...</td>\n",
       "      <td>...</td>\n",
       "      <td>...</td>\n",
       "      <td>...</td>\n",
       "      <td>...</td>\n",
       "      <td>...</td>\n",
       "      <td>...</td>\n",
       "      <td>...</td>\n",
       "      <td>...</td>\n",
       "      <td>...</td>\n",
       "      <td>...</td>\n",
       "      <td>...</td>\n",
       "      <td>...</td>\n",
       "      <td>...</td>\n",
       "      <td>...</td>\n",
       "      <td>...</td>\n",
       "      <td>...</td>\n",
       "      <td>...</td>\n",
       "    </tr>\n",
       "    <tr>\n",
       "      <th>589860</th>\n",
       "      <td>giro-d-italia/2010/stage-1</td>\n",
       "      <td>Giro d'Italia</td>\n",
       "      <td>80.0</td>\n",
       "      <td>16.0</td>\n",
       "      <td>8400.0</td>\n",
       "      <td>60.0</td>\n",
       "      <td>1.0</td>\n",
       "      <td>878</td>\n",
       "      <td>NaN</td>\n",
       "      <td>2010-05-08 00:11:38</td>\n",
       "      <td>192</td>\n",
       "      <td>anders-lund-1</td>\n",
       "      <td>25.0</td>\n",
       "      <td>True</td>\n",
       "      <td>False</td>\n",
       "      <td>False</td>\n",
       "      <td>watney-avia-1972</td>\n",
       "      <td>80.0</td>\n",
       "    </tr>\n",
       "    <tr>\n",
       "      <th>589861</th>\n",
       "      <td>giro-d-italia/2010/stage-1</td>\n",
       "      <td>Giro d'Italia</td>\n",
       "      <td>80.0</td>\n",
       "      <td>16.0</td>\n",
       "      <td>8400.0</td>\n",
       "      <td>60.0</td>\n",
       "      <td>1.0</td>\n",
       "      <td>878</td>\n",
       "      <td>NaN</td>\n",
       "      <td>2010-05-08 00:11:40</td>\n",
       "      <td>193</td>\n",
       "      <td>andrea-masciarelli</td>\n",
       "      <td>28.0</td>\n",
       "      <td>True</td>\n",
       "      <td>False</td>\n",
       "      <td>False</td>\n",
       "      <td>NaN</td>\n",
       "      <td>82.0</td>\n",
       "    </tr>\n",
       "    <tr>\n",
       "      <th>589862</th>\n",
       "      <td>giro-d-italia/2010/stage-1</td>\n",
       "      <td>Giro d'Italia</td>\n",
       "      <td>80.0</td>\n",
       "      <td>16.0</td>\n",
       "      <td>8400.0</td>\n",
       "      <td>60.0</td>\n",
       "      <td>1.0</td>\n",
       "      <td>878</td>\n",
       "      <td>NaN</td>\n",
       "      <td>2010-05-08 00:11:41</td>\n",
       "      <td>194</td>\n",
       "      <td>marco-corti</td>\n",
       "      <td>24.0</td>\n",
       "      <td>True</td>\n",
       "      <td>False</td>\n",
       "      <td>False</td>\n",
       "      <td>kazakhstan-2001</td>\n",
       "      <td>83.0</td>\n",
       "    </tr>\n",
       "    <tr>\n",
       "      <th>589863</th>\n",
       "      <td>giro-d-italia/2010/stage-1</td>\n",
       "      <td>Giro d'Italia</td>\n",
       "      <td>80.0</td>\n",
       "      <td>16.0</td>\n",
       "      <td>8400.0</td>\n",
       "      <td>60.0</td>\n",
       "      <td>1.0</td>\n",
       "      <td>878</td>\n",
       "      <td>NaN</td>\n",
       "      <td>2010-05-08 00:11:48</td>\n",
       "      <td>195</td>\n",
       "      <td>robbie-mcewen</td>\n",
       "      <td>38.0</td>\n",
       "      <td>True</td>\n",
       "      <td>False</td>\n",
       "      <td>False</td>\n",
       "      <td>radio-popular-paredes-boavista-2023</td>\n",
       "      <td>90.0</td>\n",
       "    </tr>\n",
       "    <tr>\n",
       "      <th>589864</th>\n",
       "      <td>giro-d-italia/2010/stage-1</td>\n",
       "      <td>Giro d'Italia</td>\n",
       "      <td>80.0</td>\n",
       "      <td>16.0</td>\n",
       "      <td>8400.0</td>\n",
       "      <td>60.0</td>\n",
       "      <td>1.0</td>\n",
       "      <td>878</td>\n",
       "      <td>NaN</td>\n",
       "      <td>2010-05-08 00:11:49</td>\n",
       "      <td>196</td>\n",
       "      <td>martin-pedersen</td>\n",
       "      <td>27.0</td>\n",
       "      <td>True</td>\n",
       "      <td>False</td>\n",
       "      <td>False</td>\n",
       "      <td>kazakhstan-2001</td>\n",
       "      <td>91.0</td>\n",
       "    </tr>\n",
       "  </tbody>\n",
       "</table>\n",
       "<p>589865 rows × 18 columns</p>\n",
       "</div>"
      ],
      "text/plain": [
       "                               _url            name  points  uci_points  \\\n",
       "0       tour-de-france/1978/stage-6  Tour de France   100.0         NaN   \n",
       "1       tour-de-france/1978/stage-6  Tour de France   100.0         NaN   \n",
       "2       tour-de-france/1978/stage-6  Tour de France   100.0         NaN   \n",
       "3       tour-de-france/1978/stage-6  Tour de France   100.0         NaN   \n",
       "4       tour-de-france/1978/stage-6  Tour de France   100.0         NaN   \n",
       "...                             ...             ...     ...         ...   \n",
       "589860   giro-d-italia/2010/stage-1   Giro d'Italia    80.0        16.0   \n",
       "589861   giro-d-italia/2010/stage-1   Giro d'Italia    80.0        16.0   \n",
       "589862   giro-d-italia/2010/stage-1   Giro d'Italia    80.0        16.0   \n",
       "589863   giro-d-italia/2010/stage-1   Giro d'Italia    80.0        16.0   \n",
       "589864   giro-d-italia/2010/stage-1   Giro d'Italia    80.0        16.0   \n",
       "\n",
       "          length  climb_total  profile  startlist_quality  \\\n",
       "0       162000.0       1101.0      1.0               1241   \n",
       "1       162000.0       1101.0      1.0               1241   \n",
       "2       162000.0       1101.0      1.0               1241   \n",
       "3       162000.0       1101.0      1.0               1241   \n",
       "4       162000.0       1101.0      1.0               1241   \n",
       "...          ...          ...      ...                ...   \n",
       "589860    8400.0         60.0      1.0                878   \n",
       "589861    8400.0         60.0      1.0                878   \n",
       "589862    8400.0         60.0      1.0                878   \n",
       "589863    8400.0         60.0      1.0                878   \n",
       "589864    8400.0         60.0      1.0                878   \n",
       "\n",
       "        average_temperature                date  position             cyclist  \\\n",
       "0                       NaN 1978-07-05 04:02:24         0          sean-kelly   \n",
       "1                       NaN 1978-07-05 04:02:24         1    gerrie-knetemann   \n",
       "2                       NaN 1978-07-05 04:02:24         2      rene-bittinger   \n",
       "3                       NaN 1978-07-05 04:02:24         3      joseph-bruyere   \n",
       "4                       NaN 1978-07-05 04:02:24         4    sven-ake-nilsson   \n",
       "...                     ...                 ...       ...                 ...   \n",
       "589860                  NaN 2010-05-08 00:11:38       192       anders-lund-1   \n",
       "589861                  NaN 2010-05-08 00:11:40       193  andrea-masciarelli   \n",
       "589862                  NaN 2010-05-08 00:11:41       194         marco-corti   \n",
       "589863                  NaN 2010-05-08 00:11:48       195       robbie-mcewen   \n",
       "589864                  NaN 2010-05-08 00:11:49       196     martin-pedersen   \n",
       "\n",
       "        cyclist_age  is_tarmac  is_cobbled  is_gravel  \\\n",
       "0              22.0       True       False      False   \n",
       "1              27.0       True       False      False   \n",
       "2              24.0       True       False      False   \n",
       "3              30.0       True       False      False   \n",
       "4              27.0       True       False      False   \n",
       "...             ...        ...         ...        ...   \n",
       "589860         25.0       True       False      False   \n",
       "589861         28.0       True       False      False   \n",
       "589862         24.0       True       False      False   \n",
       "589863         38.0       True       False      False   \n",
       "589864         27.0       True       False      False   \n",
       "\n",
       "                                cyclist_team  delta  \n",
       "0       vini-ricordi-pinarello-sidermec-1986    0.0  \n",
       "1                                norway-1987    0.0  \n",
       "2                                        NaN    0.0  \n",
       "3                   navigare-blue-storm-1993    0.0  \n",
       "4                                 spain-1991    0.0  \n",
       "...                                      ...    ...  \n",
       "589860                      watney-avia-1972   80.0  \n",
       "589861                                   NaN   82.0  \n",
       "589862                       kazakhstan-2001   83.0  \n",
       "589863   radio-popular-paredes-boavista-2023   90.0  \n",
       "589864                       kazakhstan-2001   91.0  \n",
       "\n",
       "[589865 rows x 18 columns]"
      ]
     },
     "execution_count": 28,
     "metadata": {},
     "output_type": "execute_result"
    }
   ],
   "source": [
    "scraping.scrape(df)"
   ]
  },
  {
   "cell_type": "code",
   "execution_count": 31,
   "metadata": {},
   "outputs": [
    {
     "data": {
      "image/png": "[encoded data removed]",
      "text/plain": [
       "<Figure size 640x480 with 4 Axes>"
      ]
     },
     "metadata": {},
     "output_type": "display_data"
    }
   ],
   "source": [
    "bad_urls = [\n",
    "    \"vuelta-a-espana/1992/stage-19\",\n",
    "    \"paris-nice/1990/stage-7a\",\n",
    "    \"tour-de-france/2003/stage-12\",\n",
    "    \"tour-de-suisse/1993/stage-4\",\n",
    "]\n",
    "\n",
    "\n",
    "for idx, url in enumerate(bad_urls):\n",
    "    plt.subplot(2, 2, idx + 1)\n",
    "\n",
    "    interested_race = df[df[\"_url\"] == url]\n",
    "    plt.plot(interested_race.position, interested_race.delta, label=\"delta\")"
   ]
  },
  {
   "cell_type": "markdown",
   "metadata": {},
   "source": [
    "## controllo versioni diverse merge"
   ]
  },
  {
   "cell_type": "code",
   "execution_count": 1,
   "metadata": {},
   "outputs": [],
   "source": [
    "import pandas as pd"
   ]
  },
  {
   "cell_type": "code",
   "execution_count": 2,
   "metadata": {},
   "outputs": [],
   "source": [
    "new_df = pd.read_csv(\"dataset/merge_clean_v2.csv\")\n",
    "old_df = pd.read_csv(\"dataset/merge_clean_v2-old.csv\")"
   ]
  },
  {
   "cell_type": "code",
   "execution_count": 3,
   "metadata": {},
   "outputs": [
    {
     "name": "stdout",
     "output_type": "stream",
     "text": [
      "<class 'pandas.core.frame.DataFrame'>\n",
      "RangeIndex: 589694 entries, 0 to 589693\n",
      "Data columns (total 20 columns):\n",
      " #   Column             Non-Null Count   Dtype  \n",
      "---  ------             --------------   -----  \n",
      " 0   _url               589694 non-null  object \n",
      " 1   points             589694 non-null  int64  \n",
      " 2   length             589694 non-null  float64\n",
      " 3   climb_total        442741 non-null  float64\n",
      " 4   profile            475315 non-null  float64\n",
      " 5   startlist_quality  589694 non-null  int64  \n",
      " 6   date               589694 non-null  object \n",
      " 7   position           589694 non-null  int64  \n",
      " 8   cyclist            589694 non-null  object \n",
      " 9   cyclist_age        589581 non-null  float64\n",
      " 10  delta              589694 non-null  int64  \n",
      " 11  race               589694 non-null  object \n",
      " 12  year               589694 non-null  int64  \n",
      " 13  stage              589694 non-null  object \n",
      " 14  birth_year         589647 non-null  float64\n",
      " 15  height             479985 non-null  float64\n",
      " 16  nationality        589694 non-null  object \n",
      " 17  season             589694 non-null  object \n",
      " 18  BMI                479985 non-null  float64\n",
      " 19  continent          589694 non-null  object \n",
      "dtypes: float64(7), int64(5), object(8)\n",
      "memory usage: 90.0+ MB\n"
     ]
    }
   ],
   "source": [
    "new_df.info()"
   ]
  },
  {
   "cell_type": "code",
   "execution_count": 4,
   "metadata": {},
   "outputs": [
    {
     "name": "stdout",
     "output_type": "stream",
     "text": [
      "<class 'pandas.core.frame.DataFrame'>\n",
      "RangeIndex: 589694 entries, 0 to 589693\n",
      "Data columns (total 20 columns):\n",
      " #   Column             Non-Null Count   Dtype  \n",
      "---  ------             --------------   -----  \n",
      " 0   _url               589694 non-null  object \n",
      " 1   points             589694 non-null  int64  \n",
      " 2   length             589694 non-null  float64\n",
      " 3   climb_total        442741 non-null  float64\n",
      " 4   profile            475315 non-null  float64\n",
      " 5   startlist_quality  589694 non-null  int64  \n",
      " 6   date               589694 non-null  object \n",
      " 7   position           589694 non-null  int64  \n",
      " 8   cyclist            589694 non-null  object \n",
      " 9   cyclist_age        589581 non-null  float64\n",
      " 10  delta              589694 non-null  int64  \n",
      " 11  race               589694 non-null  object \n",
      " 12  year               589694 non-null  int64  \n",
      " 13  stage              589694 non-null  object \n",
      " 14  birth_year         589647 non-null  float64\n",
      " 15  height             479985 non-null  float64\n",
      " 16  nationality        589694 non-null  object \n",
      " 17  season             589694 non-null  object \n",
      " 18  BMI                479985 non-null  float64\n",
      " 19  continent          589694 non-null  object \n",
      "dtypes: float64(7), int64(5), object(8)\n",
      "memory usage: 90.0+ MB\n"
     ]
    }
   ],
   "source": [
    "old_df.info()"
   ]
  },
  {
   "cell_type": "code",
   "execution_count": 6,
   "metadata": {},
   "outputs": [],
   "source": [
    "assert new_df.columns.all() == old_df.columns.all()"
   ]
  },
  {
   "cell_type": "code",
   "execution_count": 7,
   "metadata": {},
   "outputs": [],
   "source": [
    "new_df = new_df.sort_values(by=[\"date\", \"position\"])\n",
    "old_df = old_df.sort_values(by=[\"date\", \"position\"])"
   ]
  },
  {
   "cell_type": "code",
   "execution_count": 9,
   "metadata": {},
   "outputs": [
    {
     "name": "stdout",
     "output_type": "stream",
     "text": [
      "Column length has different values in the dataframes.\n"
     ]
    }
   ],
   "source": [
    "for column in new_df.columns:\n",
    "    if new_df[column].equals(old_df[column]):\n",
    "        continue\n",
    "        print(f\"Column {column} has the same values in both dataframes.\")\n",
    "    else:\n",
    "        print(f\"Column {column} has different values in the dataframes.\")"
   ]
  },
  {
   "cell_type": "code",
   "execution_count": 18,
   "metadata": {},
   "outputs": [
    {
     "data": {
      "text/plain": [
       "np.float64(32200.000000000004)"
      ]
     },
     "execution_count": 18,
     "metadata": {},
     "output_type": "execute_result"
    }
   ],
   "source": [
    "coool = new_df.loc[~new_df.length.apply(float.is_integer), \"length\"]\n",
    "coool.iloc[0]"
   ]
  },
  {
   "cell_type": "markdown",
   "metadata": {},
   "source": [
    "## analyzing classification results"
   ]
  },
  {
   "cell_type": "code",
   "execution_count": 112,
   "metadata": {},
   "outputs": [],
   "source": [
    "import os\n",
    "import numpy as np"
   ]
  },
  {
   "cell_type": "code",
   "execution_count": 135,
   "metadata": {},
   "outputs": [
    {
     "data": {
      "text/html": [
       "<div>\n",
       "<style scoped>\n",
       "    .dataframe tbody tr th:only-of-type {\n",
       "        vertical-align: middle;\n",
       "    }\n",
       "\n",
       "    .dataframe tbody tr th {\n",
       "        vertical-align: top;\n",
       "    }\n",
       "\n",
       "    .dataframe thead th {\n",
       "        text-align: right;\n",
       "    }\n",
       "</style>\n",
       "<table border=\"1\" class=\"dataframe\">\n",
       "  <thead>\n",
       "    <tr style=\"text-align: right;\">\n",
       "      <th></th>\n",
       "      <th>experiment</th>\n",
       "      <th>mean_test_f0.5</th>\n",
       "      <th>std_test_f0.5</th>\n",
       "    </tr>\n",
       "  </thead>\n",
       "  <tbody>\n",
       "    <tr>\n",
       "      <th>0</th>\n",
       "      <td>XGB-over-mostfreq.csv</td>\n",
       "      <td>0.431554</td>\n",
       "      <td>0.001986</td>\n",
       "    </tr>\n",
       "  </tbody>\n",
       "</table>\n",
       "</div>"
      ],
      "text/plain": [
       "              experiment  mean_test_f0.5  std_test_f0.5\n",
       "0  XGB-over-mostfreq.csv        0.431554       0.001986"
      ]
     },
     "execution_count": 135,
     "metadata": {},
     "output_type": "execute_result"
    }
   ],
   "source": [
    "svm_exp_list = []\n",
    "for file in os.listdir(\"results\"):\n",
    "    if file.endswith(\".csv\"):\n",
    "        if \"XGB\" in file:\n",
    "            svm_exp_list.append(file)\n",
    "\n",
    "\n",
    "dfs = []\n",
    "for exp_file in svm_exp_list:\n",
    "    exp_df = pd.read_csv(os.path.join(\"results\", exp_file))\n",
    "    exp_df[\"experiment\"] = exp_file\n",
    "    dfs.append(exp_df)\n",
    "\n",
    "df = pd.concat(dfs)\n",
    "\n",
    "df_mean_columns = df.filter(\n",
    "    regex=\"mean|param|experiment|std\", axis=1\n",
    ")  # [df_mean_columns[\"param_classifier__class_weight\"].isna()]\n",
    "df_mean_columns[df_mean_columns.experiment == \"XGB-over-mostfreq.csv\"].sort_values(\n",
    "    by=\"mean_test_f0.5\", ascending=False\n",
    ")[[\"experiment\", \"mean_test_f0.5\", \"std_test_f0.5\"]]\n",
    "\n",
    "\n",
    "# rf\n",
    "# 0.4814748930590868 freqprof\n",
    "# 0.48625042467901824\n",
    "# 0.3560354602162641 under\n",
    "# 0.45249346268161555 over\n",
    "# mean 0.48805283508609554\n",
    "# 0.48082313693742396 noimp\n",
    "\n",
    "# xgb\n",
    "# 0.43155365177510896 freqprof\n",
    "# 0.4302409746663482 balanced\n",
    "# 0.3336475241416461 under\n",
    "# 0.4332537321310686 over\n",
    "# 0.43670676854204754 noimp\n",
    "# 0.43369401126802004 mean\n",
    "\n",
    "## nn median and freq done"
   ]
  },
  {
   "cell_type": "code",
   "execution_count": 127,
   "metadata": {},
   "outputs": [
    {
     "data": {
      "text/plain": [
       "array(['XGB-temp.csv', 'XGB-temp-over-5.csv', 'XGB-trueunder-genimp.csv',\n",
       "       'XGB-temp-ovr.csv', 'XGB-temp-over-4.csv', 'XGB-temp-over-3.csv',\n",
       "       'XGB-temp-over-2.csv', 'XGB-temp-7.csv', 'XGB-temp-6.csv',\n",
       "       'XGB-temp-4.csv', 'XGB-temp-5.csv', 'XGB-impmed.csv',\n",
       "       'XGB-temp-und.csv', 'XGB-best.csv', 'XGB-temp-best.csv',\n",
       "       'XGB-temp-2.csv', 'XGB-temp-3.csv', 'XGB-over-mean.csv',\n",
       "       'XGB-balanced-genimp.csv', 'XGB-temp-8.csv', 'XGB-temp-10.csv',\n",
       "       'XGB-over-noimp.csv', 'XGB-temp-11.csv', 'XGB-temp-9.csv',\n",
       "       'XGB-temp-freqpro.csv', 'XGB-temp-bestimp.csv',\n",
       "       'XGB-under-genimp.csv', 'XGB-over-mostfreq.csv',\n",
       "       'XGB-over-genimp.csv'], dtype=object)"
      ]
     },
     "execution_count": 127,
     "metadata": {},
     "output_type": "execute_result"
    }
   ],
   "source": [
    "df_mean_columns.experiment.unique()"
   ]
  },
  {
   "cell_type": "code",
   "execution_count": 41,
   "metadata": {},
   "outputs": [
    {
     "data": {
      "text/plain": [
       "array([0.001, 0.01 ])"
      ]
     },
     "execution_count": 41,
     "metadata": {},
     "output_type": "execute_result"
    }
   ],
   "source": [
    "df_mean_columns[\"param_classifier__optimizer__weight_decay\"].unique()"
   ]
  },
  {
   "cell_type": "code",
   "execution_count": null,
   "metadata": {},
   "outputs": [],
   "source": []
  }
 ],
 "metadata": {
  "kernelspec": {
   "display_name": "venv",
   "language": "python",
   "name": "python3"
  },
  "language_info": {
   "codemirror_mode": {
    "name": "ipython",
    "version": 3
   },
   "file_extension": ".py",
   "mimetype": "text/x-python",
   "name": "python",
   "nbconvert_exporter": "python",
   "pygments_lexer": "ipython3",
   "version": "3.11.10"
  }
 },
 "nbformat": 4,
 "nbformat_minor": 2
}
